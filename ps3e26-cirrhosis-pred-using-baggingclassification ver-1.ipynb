{
 "cells": [
  {
   "cell_type": "markdown",
   "id": "8b92dc10",
   "metadata": {
    "papermill": {
     "duration": 0.01298,
     "end_time": "2023-12-12T16:14:30.549869",
     "exception": false,
     "start_time": "2023-12-12T16:14:30.536889",
     "status": "completed"
    },
    "tags": []
   },
   "source": [
    "# Description\n",
    "This model was developed by an amateur data scientist. If you have any critiques or suggestions, please let me know. I would love any good feedback from you. I am still learning in this section. Thank you!"
   ]
  },
  {
   "cell_type": "markdown",
   "id": "f3a8dcf9",
   "metadata": {
    "papermill": {
     "duration": 0.012406,
     "end_time": "2023-12-12T16:14:30.574988",
     "exception": false,
     "start_time": "2023-12-12T16:14:30.562582",
     "status": "completed"
    },
    "tags": []
   },
   "source": [
    "# Import Library"
   ]
  },
  {
   "cell_type": "code",
   "execution_count": 1,
   "id": "5607ea95",
   "metadata": {
    "_cell_guid": "b1076dfc-b9ad-4769-8c92-a6c4dae69d19",
    "_uuid": "8f2839f25d086af736a60e9eeb907d3b93b6e0e5",
    "execution": {
     "iopub.execute_input": "2023-12-12T16:14:30.601768Z",
     "iopub.status.busy": "2023-12-12T16:14:30.601355Z",
     "iopub.status.idle": "2023-12-12T16:14:33.060387Z",
     "shell.execute_reply": "2023-12-12T16:14:33.059118Z"
    },
    "papermill": {
     "duration": 2.475665,
     "end_time": "2023-12-12T16:14:33.063101",
     "exception": false,
     "start_time": "2023-12-12T16:14:30.587436",
     "status": "completed"
    },
    "tags": []
   },
   "outputs": [
    {
     "name": "stdout",
     "output_type": "stream",
     "text": [
      "/kaggle/input/playground-series-s3e26/sample_submission.csv\n",
      "/kaggle/input/playground-series-s3e26/train.csv\n",
      "/kaggle/input/playground-series-s3e26/test.csv\n"
     ]
    }
   ],
   "source": [
    "import numpy as np\n",
    "import pandas as pd\n",
    "\n",
    "from sklearn.model_selection import train_test_split\n",
    "from sklearn.tree import ExtraTreeClassifier\n",
    "from sklearn.ensemble import BaggingClassifier\n",
    "from sklearn.metrics import accuracy_score\n",
    "from sklearn.model_selection import cross_val_score\n",
    "\n",
    "import os\n",
    "for dirname, _, filenames in os.walk('/kaggle/input'):\n",
    "    for filename in filenames:\n",
    "        print(os.path.join(dirname, filename))"
   ]
  },
  {
   "cell_type": "markdown",
   "id": "bb740a3b",
   "metadata": {
    "papermill": {
     "duration": 0.012656,
     "end_time": "2023-12-12T16:14:33.088985",
     "exception": false,
     "start_time": "2023-12-12T16:14:33.076329",
     "status": "completed"
    },
    "tags": []
   },
   "source": [
    "# Data Wrangling (Train Data)\n",
    "This section is about gathering data, assessing data, and cleaning data."
   ]
  },
  {
   "cell_type": "code",
   "execution_count": 2,
   "id": "8c8035a9",
   "metadata": {
    "execution": {
     "iopub.execute_input": "2023-12-12T16:14:33.116829Z",
     "iopub.status.busy": "2023-12-12T16:14:33.116004Z",
     "iopub.status.idle": "2023-12-12T16:14:33.207666Z",
     "shell.execute_reply": "2023-12-12T16:14:33.206481Z"
    },
    "papermill": {
     "duration": 0.108319,
     "end_time": "2023-12-12T16:14:33.210115",
     "exception": false,
     "start_time": "2023-12-12T16:14:33.101796",
     "status": "completed"
    },
    "tags": []
   },
   "outputs": [
    {
     "data": {
      "text/html": [
       "<div>\n",
       "<style scoped>\n",
       "    .dataframe tbody tr th:only-of-type {\n",
       "        vertical-align: middle;\n",
       "    }\n",
       "\n",
       "    .dataframe tbody tr th {\n",
       "        vertical-align: top;\n",
       "    }\n",
       "\n",
       "    .dataframe thead th {\n",
       "        text-align: right;\n",
       "    }\n",
       "</style>\n",
       "<table border=\"1\" class=\"dataframe\">\n",
       "  <thead>\n",
       "    <tr style=\"text-align: right;\">\n",
       "      <th></th>\n",
       "      <th>id</th>\n",
       "      <th>N_Days</th>\n",
       "      <th>Drug</th>\n",
       "      <th>Age</th>\n",
       "      <th>Sex</th>\n",
       "      <th>Ascites</th>\n",
       "      <th>Hepatomegaly</th>\n",
       "      <th>Spiders</th>\n",
       "      <th>Edema</th>\n",
       "      <th>Bilirubin</th>\n",
       "      <th>Cholesterol</th>\n",
       "      <th>Albumin</th>\n",
       "      <th>Copper</th>\n",
       "      <th>Alk_Phos</th>\n",
       "      <th>SGOT</th>\n",
       "      <th>Tryglicerides</th>\n",
       "      <th>Platelets</th>\n",
       "      <th>Prothrombin</th>\n",
       "      <th>Stage</th>\n",
       "      <th>Status</th>\n",
       "    </tr>\n",
       "  </thead>\n",
       "  <tbody>\n",
       "    <tr>\n",
       "      <th>0</th>\n",
       "      <td>0</td>\n",
       "      <td>999</td>\n",
       "      <td>D-penicillamine</td>\n",
       "      <td>21532</td>\n",
       "      <td>M</td>\n",
       "      <td>N</td>\n",
       "      <td>N</td>\n",
       "      <td>N</td>\n",
       "      <td>N</td>\n",
       "      <td>2.3</td>\n",
       "      <td>316.0</td>\n",
       "      <td>3.35</td>\n",
       "      <td>172.0</td>\n",
       "      <td>1601.0</td>\n",
       "      <td>179.80</td>\n",
       "      <td>63.0</td>\n",
       "      <td>394.0</td>\n",
       "      <td>9.7</td>\n",
       "      <td>3.0</td>\n",
       "      <td>D</td>\n",
       "    </tr>\n",
       "    <tr>\n",
       "      <th>1</th>\n",
       "      <td>1</td>\n",
       "      <td>2574</td>\n",
       "      <td>Placebo</td>\n",
       "      <td>19237</td>\n",
       "      <td>F</td>\n",
       "      <td>N</td>\n",
       "      <td>N</td>\n",
       "      <td>N</td>\n",
       "      <td>N</td>\n",
       "      <td>0.9</td>\n",
       "      <td>364.0</td>\n",
       "      <td>3.54</td>\n",
       "      <td>63.0</td>\n",
       "      <td>1440.0</td>\n",
       "      <td>134.85</td>\n",
       "      <td>88.0</td>\n",
       "      <td>361.0</td>\n",
       "      <td>11.0</td>\n",
       "      <td>3.0</td>\n",
       "      <td>C</td>\n",
       "    </tr>\n",
       "    <tr>\n",
       "      <th>2</th>\n",
       "      <td>2</td>\n",
       "      <td>3428</td>\n",
       "      <td>Placebo</td>\n",
       "      <td>13727</td>\n",
       "      <td>F</td>\n",
       "      <td>N</td>\n",
       "      <td>Y</td>\n",
       "      <td>Y</td>\n",
       "      <td>Y</td>\n",
       "      <td>3.3</td>\n",
       "      <td>299.0</td>\n",
       "      <td>3.55</td>\n",
       "      <td>131.0</td>\n",
       "      <td>1029.0</td>\n",
       "      <td>119.35</td>\n",
       "      <td>50.0</td>\n",
       "      <td>199.0</td>\n",
       "      <td>11.7</td>\n",
       "      <td>4.0</td>\n",
       "      <td>D</td>\n",
       "    </tr>\n",
       "    <tr>\n",
       "      <th>3</th>\n",
       "      <td>3</td>\n",
       "      <td>2576</td>\n",
       "      <td>Placebo</td>\n",
       "      <td>18460</td>\n",
       "      <td>F</td>\n",
       "      <td>N</td>\n",
       "      <td>N</td>\n",
       "      <td>N</td>\n",
       "      <td>N</td>\n",
       "      <td>0.6</td>\n",
       "      <td>256.0</td>\n",
       "      <td>3.50</td>\n",
       "      <td>58.0</td>\n",
       "      <td>1653.0</td>\n",
       "      <td>71.30</td>\n",
       "      <td>96.0</td>\n",
       "      <td>269.0</td>\n",
       "      <td>10.7</td>\n",
       "      <td>3.0</td>\n",
       "      <td>C</td>\n",
       "    </tr>\n",
       "    <tr>\n",
       "      <th>4</th>\n",
       "      <td>4</td>\n",
       "      <td>788</td>\n",
       "      <td>Placebo</td>\n",
       "      <td>16658</td>\n",
       "      <td>F</td>\n",
       "      <td>N</td>\n",
       "      <td>Y</td>\n",
       "      <td>N</td>\n",
       "      <td>N</td>\n",
       "      <td>1.1</td>\n",
       "      <td>346.0</td>\n",
       "      <td>3.65</td>\n",
       "      <td>63.0</td>\n",
       "      <td>1181.0</td>\n",
       "      <td>125.55</td>\n",
       "      <td>96.0</td>\n",
       "      <td>298.0</td>\n",
       "      <td>10.6</td>\n",
       "      <td>4.0</td>\n",
       "      <td>C</td>\n",
       "    </tr>\n",
       "  </tbody>\n",
       "</table>\n",
       "</div>"
      ],
      "text/plain": [
       "   id  N_Days             Drug    Age Sex Ascites Hepatomegaly Spiders Edema  \\\n",
       "0   0     999  D-penicillamine  21532   M       N            N       N     N   \n",
       "1   1    2574          Placebo  19237   F       N            N       N     N   \n",
       "2   2    3428          Placebo  13727   F       N            Y       Y     Y   \n",
       "3   3    2576          Placebo  18460   F       N            N       N     N   \n",
       "4   4     788          Placebo  16658   F       N            Y       N     N   \n",
       "\n",
       "   Bilirubin  Cholesterol  Albumin  Copper  Alk_Phos    SGOT  Tryglicerides  \\\n",
       "0        2.3        316.0     3.35   172.0    1601.0  179.80           63.0   \n",
       "1        0.9        364.0     3.54    63.0    1440.0  134.85           88.0   \n",
       "2        3.3        299.0     3.55   131.0    1029.0  119.35           50.0   \n",
       "3        0.6        256.0     3.50    58.0    1653.0   71.30           96.0   \n",
       "4        1.1        346.0     3.65    63.0    1181.0  125.55           96.0   \n",
       "\n",
       "   Platelets  Prothrombin  Stage Status  \n",
       "0      394.0          9.7    3.0      D  \n",
       "1      361.0         11.0    3.0      C  \n",
       "2      199.0         11.7    4.0      D  \n",
       "3      269.0         10.7    3.0      C  \n",
       "4      298.0         10.6    4.0      C  "
      ]
     },
     "execution_count": 2,
     "metadata": {},
     "output_type": "execute_result"
    }
   ],
   "source": [
    "train_df = pd.read_csv(\"/kaggle/input/playground-series-s3e26/train.csv\")\n",
    "train_df.head()"
   ]
  },
  {
   "cell_type": "code",
   "execution_count": 3,
   "id": "c636e81f",
   "metadata": {
    "execution": {
     "iopub.execute_input": "2023-12-12T16:14:33.238908Z",
     "iopub.status.busy": "2023-12-12T16:14:33.238218Z",
     "iopub.status.idle": "2023-12-12T16:14:33.276134Z",
     "shell.execute_reply": "2023-12-12T16:14:33.274919Z"
    },
    "papermill": {
     "duration": 0.055087,
     "end_time": "2023-12-12T16:14:33.278890",
     "exception": false,
     "start_time": "2023-12-12T16:14:33.223803",
     "status": "completed"
    },
    "tags": []
   },
   "outputs": [
    {
     "name": "stdout",
     "output_type": "stream",
     "text": [
      "<class 'pandas.core.frame.DataFrame'>\n",
      "RangeIndex: 7905 entries, 0 to 7904\n",
      "Data columns (total 20 columns):\n",
      " #   Column         Non-Null Count  Dtype  \n",
      "---  ------         --------------  -----  \n",
      " 0   id             7905 non-null   int64  \n",
      " 1   N_Days         7905 non-null   int64  \n",
      " 2   Drug           7905 non-null   object \n",
      " 3   Age            7905 non-null   int64  \n",
      " 4   Sex            7905 non-null   object \n",
      " 5   Ascites        7905 non-null   object \n",
      " 6   Hepatomegaly   7905 non-null   object \n",
      " 7   Spiders        7905 non-null   object \n",
      " 8   Edema          7905 non-null   object \n",
      " 9   Bilirubin      7905 non-null   float64\n",
      " 10  Cholesterol    7905 non-null   float64\n",
      " 11  Albumin        7905 non-null   float64\n",
      " 12  Copper         7905 non-null   float64\n",
      " 13  Alk_Phos       7905 non-null   float64\n",
      " 14  SGOT           7905 non-null   float64\n",
      " 15  Tryglicerides  7905 non-null   float64\n",
      " 16  Platelets      7905 non-null   float64\n",
      " 17  Prothrombin    7905 non-null   float64\n",
      " 18  Stage          7905 non-null   float64\n",
      " 19  Status         7905 non-null   object \n",
      "dtypes: float64(10), int64(3), object(7)\n",
      "memory usage: 1.2+ MB\n"
     ]
    }
   ],
   "source": [
    "train_df.info()"
   ]
  },
  {
   "cell_type": "code",
   "execution_count": 4,
   "id": "15b8803a",
   "metadata": {
    "execution": {
     "iopub.execute_input": "2023-12-12T16:14:33.307586Z",
     "iopub.status.busy": "2023-12-12T16:14:33.307135Z",
     "iopub.status.idle": "2023-12-12T16:14:33.320973Z",
     "shell.execute_reply": "2023-12-12T16:14:33.319483Z"
    },
    "papermill": {
     "duration": 0.031369,
     "end_time": "2023-12-12T16:14:33.323586",
     "exception": false,
     "start_time": "2023-12-12T16:14:33.292217",
     "status": "completed"
    },
    "tags": []
   },
   "outputs": [
    {
     "name": "stdout",
     "output_type": "stream",
     "text": [
      "Null values = \n",
      " id               0\n",
      "N_Days           0\n",
      "Drug             0\n",
      "Age              0\n",
      "Sex              0\n",
      "Ascites          0\n",
      "Hepatomegaly     0\n",
      "Spiders          0\n",
      "Edema            0\n",
      "Bilirubin        0\n",
      "Cholesterol      0\n",
      "Albumin          0\n",
      "Copper           0\n",
      "Alk_Phos         0\n",
      "SGOT             0\n",
      "Tryglicerides    0\n",
      "Platelets        0\n",
      "Prothrombin      0\n",
      "Stage            0\n",
      "Status           0\n",
      "dtype: int64\n"
     ]
    }
   ],
   "source": [
    "print(\"Null values = \\n\", train_df.isna().sum())"
   ]
  },
  {
   "cell_type": "code",
   "execution_count": 5,
   "id": "d31587ed",
   "metadata": {
    "execution": {
     "iopub.execute_input": "2023-12-12T16:14:33.351852Z",
     "iopub.status.busy": "2023-12-12T16:14:33.351467Z",
     "iopub.status.idle": "2023-12-12T16:14:33.370056Z",
     "shell.execute_reply": "2023-12-12T16:14:33.368631Z"
    },
    "papermill": {
     "duration": 0.035597,
     "end_time": "2023-12-12T16:14:33.372471",
     "exception": false,
     "start_time": "2023-12-12T16:14:33.336874",
     "status": "completed"
    },
    "tags": []
   },
   "outputs": [
    {
     "name": "stdout",
     "output_type": "stream",
     "text": [
      "Duplicated data = 0\n"
     ]
    }
   ],
   "source": [
    "print(\"Duplicated data =\",train_df.duplicated().sum())"
   ]
  },
  {
   "cell_type": "code",
   "execution_count": 6,
   "id": "93d3a9eb",
   "metadata": {
    "execution": {
     "iopub.execute_input": "2023-12-12T16:14:33.401493Z",
     "iopub.status.busy": "2023-12-12T16:14:33.401015Z",
     "iopub.status.idle": "2023-12-12T16:14:33.458780Z",
     "shell.execute_reply": "2023-12-12T16:14:33.457334Z"
    },
    "papermill": {
     "duration": 0.075383,
     "end_time": "2023-12-12T16:14:33.461518",
     "exception": false,
     "start_time": "2023-12-12T16:14:33.386135",
     "status": "completed"
    },
    "tags": []
   },
   "outputs": [
    {
     "data": {
      "text/html": [
       "<div>\n",
       "<style scoped>\n",
       "    .dataframe tbody tr th:only-of-type {\n",
       "        vertical-align: middle;\n",
       "    }\n",
       "\n",
       "    .dataframe tbody tr th {\n",
       "        vertical-align: top;\n",
       "    }\n",
       "\n",
       "    .dataframe thead th {\n",
       "        text-align: right;\n",
       "    }\n",
       "</style>\n",
       "<table border=\"1\" class=\"dataframe\">\n",
       "  <thead>\n",
       "    <tr style=\"text-align: right;\">\n",
       "      <th></th>\n",
       "      <th>id</th>\n",
       "      <th>N_Days</th>\n",
       "      <th>Age</th>\n",
       "      <th>Bilirubin</th>\n",
       "      <th>Cholesterol</th>\n",
       "      <th>Albumin</th>\n",
       "      <th>Copper</th>\n",
       "      <th>Alk_Phos</th>\n",
       "      <th>SGOT</th>\n",
       "      <th>Tryglicerides</th>\n",
       "      <th>Platelets</th>\n",
       "      <th>Prothrombin</th>\n",
       "      <th>Stage</th>\n",
       "    </tr>\n",
       "  </thead>\n",
       "  <tbody>\n",
       "    <tr>\n",
       "      <th>count</th>\n",
       "      <td>7905.000000</td>\n",
       "      <td>7905.000000</td>\n",
       "      <td>7905.000000</td>\n",
       "      <td>7905.000000</td>\n",
       "      <td>7905.000000</td>\n",
       "      <td>7905.000000</td>\n",
       "      <td>7905.000000</td>\n",
       "      <td>7905.000000</td>\n",
       "      <td>7905.000000</td>\n",
       "      <td>7905.000000</td>\n",
       "      <td>7905.000000</td>\n",
       "      <td>7905.000000</td>\n",
       "      <td>7905.000000</td>\n",
       "    </tr>\n",
       "    <tr>\n",
       "      <th>mean</th>\n",
       "      <td>3952.000000</td>\n",
       "      <td>2030.173308</td>\n",
       "      <td>18373.146490</td>\n",
       "      <td>2.594485</td>\n",
       "      <td>350.561923</td>\n",
       "      <td>3.548323</td>\n",
       "      <td>83.902846</td>\n",
       "      <td>1816.745250</td>\n",
       "      <td>114.604602</td>\n",
       "      <td>115.340164</td>\n",
       "      <td>265.228969</td>\n",
       "      <td>10.629462</td>\n",
       "      <td>3.032511</td>\n",
       "    </tr>\n",
       "    <tr>\n",
       "      <th>std</th>\n",
       "      <td>2282.121272</td>\n",
       "      <td>1094.233744</td>\n",
       "      <td>3679.958739</td>\n",
       "      <td>3.812960</td>\n",
       "      <td>195.379344</td>\n",
       "      <td>0.346171</td>\n",
       "      <td>75.899266</td>\n",
       "      <td>1903.750657</td>\n",
       "      <td>48.790945</td>\n",
       "      <td>52.530402</td>\n",
       "      <td>87.465579</td>\n",
       "      <td>0.781735</td>\n",
       "      <td>0.866511</td>\n",
       "    </tr>\n",
       "    <tr>\n",
       "      <th>min</th>\n",
       "      <td>0.000000</td>\n",
       "      <td>41.000000</td>\n",
       "      <td>9598.000000</td>\n",
       "      <td>0.300000</td>\n",
       "      <td>120.000000</td>\n",
       "      <td>1.960000</td>\n",
       "      <td>4.000000</td>\n",
       "      <td>289.000000</td>\n",
       "      <td>26.350000</td>\n",
       "      <td>33.000000</td>\n",
       "      <td>62.000000</td>\n",
       "      <td>9.000000</td>\n",
       "      <td>1.000000</td>\n",
       "    </tr>\n",
       "    <tr>\n",
       "      <th>25%</th>\n",
       "      <td>1976.000000</td>\n",
       "      <td>1230.000000</td>\n",
       "      <td>15574.000000</td>\n",
       "      <td>0.700000</td>\n",
       "      <td>248.000000</td>\n",
       "      <td>3.350000</td>\n",
       "      <td>39.000000</td>\n",
       "      <td>834.000000</td>\n",
       "      <td>75.950000</td>\n",
       "      <td>84.000000</td>\n",
       "      <td>211.000000</td>\n",
       "      <td>10.000000</td>\n",
       "      <td>2.000000</td>\n",
       "    </tr>\n",
       "    <tr>\n",
       "      <th>50%</th>\n",
       "      <td>3952.000000</td>\n",
       "      <td>1831.000000</td>\n",
       "      <td>18713.000000</td>\n",
       "      <td>1.100000</td>\n",
       "      <td>298.000000</td>\n",
       "      <td>3.580000</td>\n",
       "      <td>63.000000</td>\n",
       "      <td>1181.000000</td>\n",
       "      <td>108.500000</td>\n",
       "      <td>104.000000</td>\n",
       "      <td>265.000000</td>\n",
       "      <td>10.600000</td>\n",
       "      <td>3.000000</td>\n",
       "    </tr>\n",
       "    <tr>\n",
       "      <th>75%</th>\n",
       "      <td>5928.000000</td>\n",
       "      <td>2689.000000</td>\n",
       "      <td>20684.000000</td>\n",
       "      <td>3.000000</td>\n",
       "      <td>390.000000</td>\n",
       "      <td>3.770000</td>\n",
       "      <td>102.000000</td>\n",
       "      <td>1857.000000</td>\n",
       "      <td>137.950000</td>\n",
       "      <td>139.000000</td>\n",
       "      <td>316.000000</td>\n",
       "      <td>11.000000</td>\n",
       "      <td>4.000000</td>\n",
       "    </tr>\n",
       "    <tr>\n",
       "      <th>max</th>\n",
       "      <td>7904.000000</td>\n",
       "      <td>4795.000000</td>\n",
       "      <td>28650.000000</td>\n",
       "      <td>28.000000</td>\n",
       "      <td>1775.000000</td>\n",
       "      <td>4.640000</td>\n",
       "      <td>588.000000</td>\n",
       "      <td>13862.400000</td>\n",
       "      <td>457.250000</td>\n",
       "      <td>598.000000</td>\n",
       "      <td>563.000000</td>\n",
       "      <td>18.000000</td>\n",
       "      <td>4.000000</td>\n",
       "    </tr>\n",
       "  </tbody>\n",
       "</table>\n",
       "</div>"
      ],
      "text/plain": [
       "                id       N_Days           Age    Bilirubin  Cholesterol  \\\n",
       "count  7905.000000  7905.000000   7905.000000  7905.000000  7905.000000   \n",
       "mean   3952.000000  2030.173308  18373.146490     2.594485   350.561923   \n",
       "std    2282.121272  1094.233744   3679.958739     3.812960   195.379344   \n",
       "min       0.000000    41.000000   9598.000000     0.300000   120.000000   \n",
       "25%    1976.000000  1230.000000  15574.000000     0.700000   248.000000   \n",
       "50%    3952.000000  1831.000000  18713.000000     1.100000   298.000000   \n",
       "75%    5928.000000  2689.000000  20684.000000     3.000000   390.000000   \n",
       "max    7904.000000  4795.000000  28650.000000    28.000000  1775.000000   \n",
       "\n",
       "           Albumin       Copper      Alk_Phos         SGOT  Tryglicerides  \\\n",
       "count  7905.000000  7905.000000   7905.000000  7905.000000    7905.000000   \n",
       "mean      3.548323    83.902846   1816.745250   114.604602     115.340164   \n",
       "std       0.346171    75.899266   1903.750657    48.790945      52.530402   \n",
       "min       1.960000     4.000000    289.000000    26.350000      33.000000   \n",
       "25%       3.350000    39.000000    834.000000    75.950000      84.000000   \n",
       "50%       3.580000    63.000000   1181.000000   108.500000     104.000000   \n",
       "75%       3.770000   102.000000   1857.000000   137.950000     139.000000   \n",
       "max       4.640000   588.000000  13862.400000   457.250000     598.000000   \n",
       "\n",
       "         Platelets  Prothrombin        Stage  \n",
       "count  7905.000000  7905.000000  7905.000000  \n",
       "mean    265.228969    10.629462     3.032511  \n",
       "std      87.465579     0.781735     0.866511  \n",
       "min      62.000000     9.000000     1.000000  \n",
       "25%     211.000000    10.000000     2.000000  \n",
       "50%     265.000000    10.600000     3.000000  \n",
       "75%     316.000000    11.000000     4.000000  \n",
       "max     563.000000    18.000000     4.000000  "
      ]
     },
     "execution_count": 6,
     "metadata": {},
     "output_type": "execute_result"
    }
   ],
   "source": [
    "train_df.describe()"
   ]
  },
  {
   "cell_type": "code",
   "execution_count": 7,
   "id": "9c3d37c2",
   "metadata": {
    "execution": {
     "iopub.execute_input": "2023-12-12T16:14:33.491772Z",
     "iopub.status.busy": "2023-12-12T16:14:33.491035Z",
     "iopub.status.idle": "2023-12-12T16:14:33.503101Z",
     "shell.execute_reply": "2023-12-12T16:14:33.502133Z"
    },
    "papermill": {
     "duration": 0.029961,
     "end_time": "2023-12-12T16:14:33.505746",
     "exception": false,
     "start_time": "2023-12-12T16:14:33.475785",
     "status": "completed"
    },
    "tags": []
   },
   "outputs": [],
   "source": [
    "drug_labels = train_df['Drug'].unique().tolist()\n",
    "sex_labels = train_df['Sex'].unique().tolist()\n",
    "ascites_labels = train_df['Ascites'].unique().tolist()\n",
    "hepatomegaly_labels = train_df['Hepatomegaly'].unique().tolist()\n",
    "spiders_labels = train_df['Spiders'].unique().tolist()\n",
    "edema_labels = train_df['Edema'].unique().tolist()"
   ]
  },
  {
   "cell_type": "code",
   "execution_count": 8,
   "id": "ea86e358",
   "metadata": {
    "execution": {
     "iopub.execute_input": "2023-12-12T16:14:33.536059Z",
     "iopub.status.busy": "2023-12-12T16:14:33.535478Z",
     "iopub.status.idle": "2023-12-12T16:14:33.589861Z",
     "shell.execute_reply": "2023-12-12T16:14:33.588585Z"
    },
    "papermill": {
     "duration": 0.072386,
     "end_time": "2023-12-12T16:14:33.592518",
     "exception": false,
     "start_time": "2023-12-12T16:14:33.520132",
     "status": "completed"
    },
    "tags": []
   },
   "outputs": [],
   "source": [
    "train_df[\"Drug\"] = train_df[\"Drug\"].apply(lambda x: drug_labels.index(x))\n",
    "train_df[\"Sex\"] = train_df[\"Sex\"].apply(lambda x: sex_labels.index(x))\n",
    "train_df[\"Ascites\"] = train_df[\"Ascites\"].apply(lambda x: ascites_labels.index(x))\n",
    "train_df[\"Hepatomegaly\"] = train_df[\"Hepatomegaly\"].apply(lambda x: hepatomegaly_labels.index(x))\n",
    "train_df[\"Spiders\"] = train_df[\"Spiders\"].apply(lambda x: spiders_labels.index(x))\n",
    "train_df[\"Edema\"] = train_df[\"Edema\"].apply(lambda x: edema_labels.index(x))"
   ]
  },
  {
   "cell_type": "code",
   "execution_count": 9,
   "id": "acf03720",
   "metadata": {
    "execution": {
     "iopub.execute_input": "2023-12-12T16:14:33.622682Z",
     "iopub.status.busy": "2023-12-12T16:14:33.622249Z",
     "iopub.status.idle": "2023-12-12T16:14:33.648641Z",
     "shell.execute_reply": "2023-12-12T16:14:33.647507Z"
    },
    "papermill": {
     "duration": 0.044664,
     "end_time": "2023-12-12T16:14:33.651107",
     "exception": false,
     "start_time": "2023-12-12T16:14:33.606443",
     "status": "completed"
    },
    "tags": []
   },
   "outputs": [
    {
     "data": {
      "text/html": [
       "<div>\n",
       "<style scoped>\n",
       "    .dataframe tbody tr th:only-of-type {\n",
       "        vertical-align: middle;\n",
       "    }\n",
       "\n",
       "    .dataframe tbody tr th {\n",
       "        vertical-align: top;\n",
       "    }\n",
       "\n",
       "    .dataframe thead th {\n",
       "        text-align: right;\n",
       "    }\n",
       "</style>\n",
       "<table border=\"1\" class=\"dataframe\">\n",
       "  <thead>\n",
       "    <tr style=\"text-align: right;\">\n",
       "      <th></th>\n",
       "      <th>id</th>\n",
       "      <th>N_Days</th>\n",
       "      <th>Drug</th>\n",
       "      <th>Age</th>\n",
       "      <th>Sex</th>\n",
       "      <th>Ascites</th>\n",
       "      <th>Hepatomegaly</th>\n",
       "      <th>Spiders</th>\n",
       "      <th>Edema</th>\n",
       "      <th>Bilirubin</th>\n",
       "      <th>Cholesterol</th>\n",
       "      <th>Albumin</th>\n",
       "      <th>Copper</th>\n",
       "      <th>Alk_Phos</th>\n",
       "      <th>SGOT</th>\n",
       "      <th>Tryglicerides</th>\n",
       "      <th>Platelets</th>\n",
       "      <th>Prothrombin</th>\n",
       "      <th>Stage</th>\n",
       "      <th>Status</th>\n",
       "    </tr>\n",
       "  </thead>\n",
       "  <tbody>\n",
       "    <tr>\n",
       "      <th>0</th>\n",
       "      <td>0</td>\n",
       "      <td>999</td>\n",
       "      <td>0</td>\n",
       "      <td>21532</td>\n",
       "      <td>0</td>\n",
       "      <td>0</td>\n",
       "      <td>0</td>\n",
       "      <td>0</td>\n",
       "      <td>0</td>\n",
       "      <td>2.3</td>\n",
       "      <td>316.0</td>\n",
       "      <td>3.35</td>\n",
       "      <td>172.0</td>\n",
       "      <td>1601.0</td>\n",
       "      <td>179.80</td>\n",
       "      <td>63.0</td>\n",
       "      <td>394.0</td>\n",
       "      <td>9.7</td>\n",
       "      <td>3.0</td>\n",
       "      <td>D</td>\n",
       "    </tr>\n",
       "    <tr>\n",
       "      <th>1</th>\n",
       "      <td>1</td>\n",
       "      <td>2574</td>\n",
       "      <td>1</td>\n",
       "      <td>19237</td>\n",
       "      <td>1</td>\n",
       "      <td>0</td>\n",
       "      <td>0</td>\n",
       "      <td>0</td>\n",
       "      <td>0</td>\n",
       "      <td>0.9</td>\n",
       "      <td>364.0</td>\n",
       "      <td>3.54</td>\n",
       "      <td>63.0</td>\n",
       "      <td>1440.0</td>\n",
       "      <td>134.85</td>\n",
       "      <td>88.0</td>\n",
       "      <td>361.0</td>\n",
       "      <td>11.0</td>\n",
       "      <td>3.0</td>\n",
       "      <td>C</td>\n",
       "    </tr>\n",
       "    <tr>\n",
       "      <th>2</th>\n",
       "      <td>2</td>\n",
       "      <td>3428</td>\n",
       "      <td>1</td>\n",
       "      <td>13727</td>\n",
       "      <td>1</td>\n",
       "      <td>0</td>\n",
       "      <td>1</td>\n",
       "      <td>1</td>\n",
       "      <td>1</td>\n",
       "      <td>3.3</td>\n",
       "      <td>299.0</td>\n",
       "      <td>3.55</td>\n",
       "      <td>131.0</td>\n",
       "      <td>1029.0</td>\n",
       "      <td>119.35</td>\n",
       "      <td>50.0</td>\n",
       "      <td>199.0</td>\n",
       "      <td>11.7</td>\n",
       "      <td>4.0</td>\n",
       "      <td>D</td>\n",
       "    </tr>\n",
       "    <tr>\n",
       "      <th>3</th>\n",
       "      <td>3</td>\n",
       "      <td>2576</td>\n",
       "      <td>1</td>\n",
       "      <td>18460</td>\n",
       "      <td>1</td>\n",
       "      <td>0</td>\n",
       "      <td>0</td>\n",
       "      <td>0</td>\n",
       "      <td>0</td>\n",
       "      <td>0.6</td>\n",
       "      <td>256.0</td>\n",
       "      <td>3.50</td>\n",
       "      <td>58.0</td>\n",
       "      <td>1653.0</td>\n",
       "      <td>71.30</td>\n",
       "      <td>96.0</td>\n",
       "      <td>269.0</td>\n",
       "      <td>10.7</td>\n",
       "      <td>3.0</td>\n",
       "      <td>C</td>\n",
       "    </tr>\n",
       "    <tr>\n",
       "      <th>4</th>\n",
       "      <td>4</td>\n",
       "      <td>788</td>\n",
       "      <td>1</td>\n",
       "      <td>16658</td>\n",
       "      <td>1</td>\n",
       "      <td>0</td>\n",
       "      <td>1</td>\n",
       "      <td>0</td>\n",
       "      <td>0</td>\n",
       "      <td>1.1</td>\n",
       "      <td>346.0</td>\n",
       "      <td>3.65</td>\n",
       "      <td>63.0</td>\n",
       "      <td>1181.0</td>\n",
       "      <td>125.55</td>\n",
       "      <td>96.0</td>\n",
       "      <td>298.0</td>\n",
       "      <td>10.6</td>\n",
       "      <td>4.0</td>\n",
       "      <td>C</td>\n",
       "    </tr>\n",
       "  </tbody>\n",
       "</table>\n",
       "</div>"
      ],
      "text/plain": [
       "   id  N_Days  Drug    Age  Sex  Ascites  Hepatomegaly  Spiders  Edema  \\\n",
       "0   0     999     0  21532    0        0             0        0      0   \n",
       "1   1    2574     1  19237    1        0             0        0      0   \n",
       "2   2    3428     1  13727    1        0             1        1      1   \n",
       "3   3    2576     1  18460    1        0             0        0      0   \n",
       "4   4     788     1  16658    1        0             1        0      0   \n",
       "\n",
       "   Bilirubin  Cholesterol  Albumin  Copper  Alk_Phos    SGOT  Tryglicerides  \\\n",
       "0        2.3        316.0     3.35   172.0    1601.0  179.80           63.0   \n",
       "1        0.9        364.0     3.54    63.0    1440.0  134.85           88.0   \n",
       "2        3.3        299.0     3.55   131.0    1029.0  119.35           50.0   \n",
       "3        0.6        256.0     3.50    58.0    1653.0   71.30           96.0   \n",
       "4        1.1        346.0     3.65    63.0    1181.0  125.55           96.0   \n",
       "\n",
       "   Platelets  Prothrombin  Stage Status  \n",
       "0      394.0          9.7    3.0      D  \n",
       "1      361.0         11.0    3.0      C  \n",
       "2      199.0         11.7    4.0      D  \n",
       "3      269.0         10.7    3.0      C  \n",
       "4      298.0         10.6    4.0      C  "
      ]
     },
     "execution_count": 9,
     "metadata": {},
     "output_type": "execute_result"
    }
   ],
   "source": [
    "train_df.head()"
   ]
  },
  {
   "cell_type": "code",
   "execution_count": 10,
   "id": "dc151522",
   "metadata": {
    "execution": {
     "iopub.execute_input": "2023-12-12T16:14:33.682080Z",
     "iopub.status.busy": "2023-12-12T16:14:33.681627Z",
     "iopub.status.idle": "2023-12-12T16:14:33.695890Z",
     "shell.execute_reply": "2023-12-12T16:14:33.695019Z"
    },
    "papermill": {
     "duration": 0.032286,
     "end_time": "2023-12-12T16:14:33.698154",
     "exception": false,
     "start_time": "2023-12-12T16:14:33.665868",
     "status": "completed"
    },
    "tags": []
   },
   "outputs": [
    {
     "data": {
      "text/html": [
       "<div>\n",
       "<style scoped>\n",
       "    .dataframe tbody tr th:only-of-type {\n",
       "        vertical-align: middle;\n",
       "    }\n",
       "\n",
       "    .dataframe tbody tr th {\n",
       "        vertical-align: top;\n",
       "    }\n",
       "\n",
       "    .dataframe thead th {\n",
       "        text-align: right;\n",
       "    }\n",
       "</style>\n",
       "<table border=\"1\" class=\"dataframe\">\n",
       "  <thead>\n",
       "    <tr style=\"text-align: right;\">\n",
       "      <th></th>\n",
       "      <th>index</th>\n",
       "      <th>C</th>\n",
       "      <th>CL</th>\n",
       "      <th>D</th>\n",
       "    </tr>\n",
       "  </thead>\n",
       "  <tbody>\n",
       "    <tr>\n",
       "      <th>0</th>\n",
       "      <td>0</td>\n",
       "      <td>0</td>\n",
       "      <td>0</td>\n",
       "      <td>1</td>\n",
       "    </tr>\n",
       "    <tr>\n",
       "      <th>1</th>\n",
       "      <td>1</td>\n",
       "      <td>1</td>\n",
       "      <td>0</td>\n",
       "      <td>0</td>\n",
       "    </tr>\n",
       "    <tr>\n",
       "      <th>2</th>\n",
       "      <td>2</td>\n",
       "      <td>0</td>\n",
       "      <td>0</td>\n",
       "      <td>1</td>\n",
       "    </tr>\n",
       "    <tr>\n",
       "      <th>3</th>\n",
       "      <td>3</td>\n",
       "      <td>1</td>\n",
       "      <td>0</td>\n",
       "      <td>0</td>\n",
       "    </tr>\n",
       "    <tr>\n",
       "      <th>4</th>\n",
       "      <td>4</td>\n",
       "      <td>1</td>\n",
       "      <td>0</td>\n",
       "      <td>0</td>\n",
       "    </tr>\n",
       "  </tbody>\n",
       "</table>\n",
       "</div>"
      ],
      "text/plain": [
       "   index  C  CL  D\n",
       "0      0  0   0  1\n",
       "1      1  1   0  0\n",
       "2      2  0   0  1\n",
       "3      3  1   0  0\n",
       "4      4  1   0  0"
      ]
     },
     "execution_count": 10,
     "metadata": {},
     "output_type": "execute_result"
    }
   ],
   "source": [
    "trainStatusClass_df = pd.get_dummies(train_df['Status'],dtype=int).reset_index()\n",
    "trainStatusClass_df.head()"
   ]
  },
  {
   "cell_type": "code",
   "execution_count": 11,
   "id": "4ad2fe6b",
   "metadata": {
    "execution": {
     "iopub.execute_input": "2023-12-12T16:14:33.729872Z",
     "iopub.status.busy": "2023-12-12T16:14:33.729056Z",
     "iopub.status.idle": "2023-12-12T16:14:33.741731Z",
     "shell.execute_reply": "2023-12-12T16:14:33.740552Z"
    },
    "papermill": {
     "duration": 0.031495,
     "end_time": "2023-12-12T16:14:33.744731",
     "exception": false,
     "start_time": "2023-12-12T16:14:33.713236",
     "status": "completed"
    },
    "tags": []
   },
   "outputs": [
    {
     "data": {
      "text/html": [
       "<div>\n",
       "<style scoped>\n",
       "    .dataframe tbody tr th:only-of-type {\n",
       "        vertical-align: middle;\n",
       "    }\n",
       "\n",
       "    .dataframe tbody tr th {\n",
       "        vertical-align: top;\n",
       "    }\n",
       "\n",
       "    .dataframe thead th {\n",
       "        text-align: right;\n",
       "    }\n",
       "</style>\n",
       "<table border=\"1\" class=\"dataframe\">\n",
       "  <thead>\n",
       "    <tr style=\"text-align: right;\">\n",
       "      <th></th>\n",
       "      <th>id</th>\n",
       "      <th>C</th>\n",
       "      <th>CL</th>\n",
       "      <th>D</th>\n",
       "    </tr>\n",
       "  </thead>\n",
       "  <tbody>\n",
       "    <tr>\n",
       "      <th>7900</th>\n",
       "      <td>7900</td>\n",
       "      <td>1</td>\n",
       "      <td>0</td>\n",
       "      <td>0</td>\n",
       "    </tr>\n",
       "    <tr>\n",
       "      <th>7901</th>\n",
       "      <td>7901</td>\n",
       "      <td>1</td>\n",
       "      <td>0</td>\n",
       "      <td>0</td>\n",
       "    </tr>\n",
       "    <tr>\n",
       "      <th>7902</th>\n",
       "      <td>7902</td>\n",
       "      <td>0</td>\n",
       "      <td>0</td>\n",
       "      <td>1</td>\n",
       "    </tr>\n",
       "    <tr>\n",
       "      <th>7903</th>\n",
       "      <td>7903</td>\n",
       "      <td>0</td>\n",
       "      <td>0</td>\n",
       "      <td>1</td>\n",
       "    </tr>\n",
       "    <tr>\n",
       "      <th>7904</th>\n",
       "      <td>7904</td>\n",
       "      <td>1</td>\n",
       "      <td>0</td>\n",
       "      <td>0</td>\n",
       "    </tr>\n",
       "  </tbody>\n",
       "</table>\n",
       "</div>"
      ],
      "text/plain": [
       "        id  C  CL  D\n",
       "7900  7900  1   0  0\n",
       "7901  7901  1   0  0\n",
       "7902  7902  0   0  1\n",
       "7903  7903  0   0  1\n",
       "7904  7904  1   0  0"
      ]
     },
     "execution_count": 11,
     "metadata": {},
     "output_type": "execute_result"
    }
   ],
   "source": [
    "trainStatusClass_df = trainStatusClass_df.rename(columns={'index':'id'})\n",
    "trainStatusClass_df.tail()"
   ]
  },
  {
   "cell_type": "code",
   "execution_count": 12,
   "id": "b44ab0aa",
   "metadata": {
    "execution": {
     "iopub.execute_input": "2023-12-12T16:14:33.776485Z",
     "iopub.status.busy": "2023-12-12T16:14:33.776034Z",
     "iopub.status.idle": "2023-12-12T16:14:33.790736Z",
     "shell.execute_reply": "2023-12-12T16:14:33.789452Z"
    },
    "papermill": {
     "duration": 0.034112,
     "end_time": "2023-12-12T16:14:33.793576",
     "exception": false,
     "start_time": "2023-12-12T16:14:33.759464",
     "status": "completed"
    },
    "tags": []
   },
   "outputs": [
    {
     "data": {
      "text/html": [
       "<div>\n",
       "<style scoped>\n",
       "    .dataframe tbody tr th:only-of-type {\n",
       "        vertical-align: middle;\n",
       "    }\n",
       "\n",
       "    .dataframe tbody tr th {\n",
       "        vertical-align: top;\n",
       "    }\n",
       "\n",
       "    .dataframe thead th {\n",
       "        text-align: right;\n",
       "    }\n",
       "</style>\n",
       "<table border=\"1\" class=\"dataframe\">\n",
       "  <thead>\n",
       "    <tr style=\"text-align: right;\">\n",
       "      <th></th>\n",
       "      <th>C</th>\n",
       "      <th>CL</th>\n",
       "      <th>D</th>\n",
       "    </tr>\n",
       "  </thead>\n",
       "  <tbody>\n",
       "    <tr>\n",
       "      <th>0</th>\n",
       "      <td>0</td>\n",
       "      <td>0</td>\n",
       "      <td>1</td>\n",
       "    </tr>\n",
       "    <tr>\n",
       "      <th>1</th>\n",
       "      <td>1</td>\n",
       "      <td>0</td>\n",
       "      <td>0</td>\n",
       "    </tr>\n",
       "  </tbody>\n",
       "</table>\n",
       "</div>"
      ],
      "text/plain": [
       "   C  CL  D\n",
       "0  0   0  1\n",
       "1  1   0  0"
      ]
     },
     "execution_count": 12,
     "metadata": {},
     "output_type": "execute_result"
    }
   ],
   "source": [
    "trainStatusClass_df = trainStatusClass_df.drop(['id'], axis=1)\n",
    "trainStatusClass_df.head(2)"
   ]
  },
  {
   "cell_type": "markdown",
   "id": "aaf1b862",
   "metadata": {
    "papermill": {
     "duration": 0.014909,
     "end_time": "2023-12-12T16:14:33.823892",
     "exception": false,
     "start_time": "2023-12-12T16:14:33.808983",
     "status": "completed"
    },
    "tags": []
   },
   "source": [
    "# Train the Data\n",
    "This section is about making models and training data. I divided the target into three different data frames based on three classes. I made predictions for three different classes, C, CL, and D. I used a Bagging Classifier with Extra Tree Classifier estimator."
   ]
  },
  {
   "cell_type": "code",
   "execution_count": 13,
   "id": "91712901",
   "metadata": {
    "execution": {
     "iopub.execute_input": "2023-12-12T16:14:33.856663Z",
     "iopub.status.busy": "2023-12-12T16:14:33.855943Z",
     "iopub.status.idle": "2023-12-12T16:14:33.861256Z",
     "shell.execute_reply": "2023-12-12T16:14:33.860305Z"
    },
    "papermill": {
     "duration": 0.02397,
     "end_time": "2023-12-12T16:14:33.863351",
     "exception": false,
     "start_time": "2023-12-12T16:14:33.839381",
     "status": "completed"
    },
    "tags": []
   },
   "outputs": [],
   "source": [
    "# Divided status dataframe into three different dataframe\n",
    "trainStatusClassC_df = trainStatusClass_df['C']\n",
    "trainStatusClassCL_df = trainStatusClass_df['CL']\n",
    "trainStatusClassD_df = trainStatusClass_df['D']"
   ]
  },
  {
   "cell_type": "code",
   "execution_count": 14,
   "id": "b0b15ca0",
   "metadata": {
    "execution": {
     "iopub.execute_input": "2023-12-12T16:14:33.960897Z",
     "iopub.status.busy": "2023-12-12T16:14:33.959969Z",
     "iopub.status.idle": "2023-12-12T16:14:33.967902Z",
     "shell.execute_reply": "2023-12-12T16:14:33.966853Z"
    },
    "papermill": {
     "duration": 0.026576,
     "end_time": "2023-12-12T16:14:33.970150",
     "exception": false,
     "start_time": "2023-12-12T16:14:33.943574",
     "status": "completed"
    },
    "tags": []
   },
   "outputs": [
    {
     "name": "stdout",
     "output_type": "stream",
     "text": [
      "(7905, 18)\n",
      "(7905,)\n"
     ]
    }
   ],
   "source": [
    "# Prediction to C status\n",
    "xC = train_df.drop(['id', 'Status'], axis=1)\n",
    "yC = trainStatusClassC_df\n",
    "\n",
    "print(xC.shape)\n",
    "print(yC.shape)"
   ]
  },
  {
   "cell_type": "code",
   "execution_count": 15,
   "id": "1d649ffc",
   "metadata": {
    "execution": {
     "iopub.execute_input": "2023-12-12T16:14:34.002631Z",
     "iopub.status.busy": "2023-12-12T16:14:34.002020Z",
     "iopub.status.idle": "2023-12-12T16:14:34.013776Z",
     "shell.execute_reply": "2023-12-12T16:14:34.012581Z"
    },
    "papermill": {
     "duration": 0.030791,
     "end_time": "2023-12-12T16:14:34.016264",
     "exception": false,
     "start_time": "2023-12-12T16:14:33.985473",
     "status": "completed"
    },
    "tags": []
   },
   "outputs": [],
   "source": [
    "xC_train, xC_test, yC_train, yC_test = train_test_split(xC, yC, test_size=0.3, random_state=42)"
   ]
  },
  {
   "cell_type": "code",
   "execution_count": 16,
   "id": "a49e3612",
   "metadata": {
    "execution": {
     "iopub.execute_input": "2023-12-12T16:14:34.048373Z",
     "iopub.status.busy": "2023-12-12T16:14:34.047915Z",
     "iopub.status.idle": "2023-12-12T16:14:34.423221Z",
     "shell.execute_reply": "2023-12-12T16:14:34.422293Z"
    },
    "papermill": {
     "duration": 0.395202,
     "end_time": "2023-12-12T16:14:34.426614",
     "exception": false,
     "start_time": "2023-12-12T16:14:34.031412",
     "status": "completed"
    },
    "tags": []
   },
   "outputs": [
    {
     "data": {
      "text/html": [
       "<style>#sk-container-id-1 {color: black;background-color: white;}#sk-container-id-1 pre{padding: 0;}#sk-container-id-1 div.sk-toggleable {background-color: white;}#sk-container-id-1 label.sk-toggleable__label {cursor: pointer;display: block;width: 100%;margin-bottom: 0;padding: 0.3em;box-sizing: border-box;text-align: center;}#sk-container-id-1 label.sk-toggleable__label-arrow:before {content: \"▸\";float: left;margin-right: 0.25em;color: #696969;}#sk-container-id-1 label.sk-toggleable__label-arrow:hover:before {color: black;}#sk-container-id-1 div.sk-estimator:hover label.sk-toggleable__label-arrow:before {color: black;}#sk-container-id-1 div.sk-toggleable__content {max-height: 0;max-width: 0;overflow: hidden;text-align: left;background-color: #f0f8ff;}#sk-container-id-1 div.sk-toggleable__content pre {margin: 0.2em;color: black;border-radius: 0.25em;background-color: #f0f8ff;}#sk-container-id-1 input.sk-toggleable__control:checked~div.sk-toggleable__content {max-height: 200px;max-width: 100%;overflow: auto;}#sk-container-id-1 input.sk-toggleable__control:checked~label.sk-toggleable__label-arrow:before {content: \"▾\";}#sk-container-id-1 div.sk-estimator input.sk-toggleable__control:checked~label.sk-toggleable__label {background-color: #d4ebff;}#sk-container-id-1 div.sk-label input.sk-toggleable__control:checked~label.sk-toggleable__label {background-color: #d4ebff;}#sk-container-id-1 input.sk-hidden--visually {border: 0;clip: rect(1px 1px 1px 1px);clip: rect(1px, 1px, 1px, 1px);height: 1px;margin: -1px;overflow: hidden;padding: 0;position: absolute;width: 1px;}#sk-container-id-1 div.sk-estimator {font-family: monospace;background-color: #f0f8ff;border: 1px dotted black;border-radius: 0.25em;box-sizing: border-box;margin-bottom: 0.5em;}#sk-container-id-1 div.sk-estimator:hover {background-color: #d4ebff;}#sk-container-id-1 div.sk-parallel-item::after {content: \"\";width: 100%;border-bottom: 1px solid gray;flex-grow: 1;}#sk-container-id-1 div.sk-label:hover label.sk-toggleable__label {background-color: #d4ebff;}#sk-container-id-1 div.sk-serial::before {content: \"\";position: absolute;border-left: 1px solid gray;box-sizing: border-box;top: 0;bottom: 0;left: 50%;z-index: 0;}#sk-container-id-1 div.sk-serial {display: flex;flex-direction: column;align-items: center;background-color: white;padding-right: 0.2em;padding-left: 0.2em;position: relative;}#sk-container-id-1 div.sk-item {position: relative;z-index: 1;}#sk-container-id-1 div.sk-parallel {display: flex;align-items: stretch;justify-content: center;background-color: white;position: relative;}#sk-container-id-1 div.sk-item::before, #sk-container-id-1 div.sk-parallel-item::before {content: \"\";position: absolute;border-left: 1px solid gray;box-sizing: border-box;top: 0;bottom: 0;left: 50%;z-index: -1;}#sk-container-id-1 div.sk-parallel-item {display: flex;flex-direction: column;z-index: 1;position: relative;background-color: white;}#sk-container-id-1 div.sk-parallel-item:first-child::after {align-self: flex-end;width: 50%;}#sk-container-id-1 div.sk-parallel-item:last-child::after {align-self: flex-start;width: 50%;}#sk-container-id-1 div.sk-parallel-item:only-child::after {width: 0;}#sk-container-id-1 div.sk-dashed-wrapped {border: 1px dashed gray;margin: 0 0.4em 0.5em 0.4em;box-sizing: border-box;padding-bottom: 0.4em;background-color: white;}#sk-container-id-1 div.sk-label label {font-family: monospace;font-weight: bold;display: inline-block;line-height: 1.2em;}#sk-container-id-1 div.sk-label-container {text-align: center;}#sk-container-id-1 div.sk-container {/* jupyter's `normalize.less` sets `[hidden] { display: none; }` but bootstrap.min.css set `[hidden] { display: none !important; }` so we also need the `!important` here to be able to override the default hidden behavior on the sphinx rendered scikit-learn.org. See: https://github.com/scikit-learn/scikit-learn/issues/21755 */display: inline-block !important;position: relative;}#sk-container-id-1 div.sk-text-repr-fallback {display: none;}</style><div id=\"sk-container-id-1\" class=\"sk-top-container\"><div class=\"sk-text-repr-fallback\"><pre>BaggingClassifier(estimator=ExtraTreeClassifier(max_depth=2, random_state=10),\n",
       "                  n_estimators=100)</pre><b>In a Jupyter environment, please rerun this cell to show the HTML representation or trust the notebook. <br />On GitHub, the HTML representation is unable to render, please try loading this page with nbviewer.org.</b></div><div class=\"sk-container\" hidden><div class=\"sk-item sk-dashed-wrapped\"><div class=\"sk-label-container\"><div class=\"sk-label sk-toggleable\"><input class=\"sk-toggleable__control sk-hidden--visually\" id=\"sk-estimator-id-1\" type=\"checkbox\" ><label for=\"sk-estimator-id-1\" class=\"sk-toggleable__label sk-toggleable__label-arrow\">BaggingClassifier</label><div class=\"sk-toggleable__content\"><pre>BaggingClassifier(estimator=ExtraTreeClassifier(max_depth=2, random_state=10),\n",
       "                  n_estimators=100)</pre></div></div></div><div class=\"sk-parallel\"><div class=\"sk-parallel-item\"><div class=\"sk-item\"><div class=\"sk-label-container\"><div class=\"sk-label sk-toggleable\"><input class=\"sk-toggleable__control sk-hidden--visually\" id=\"sk-estimator-id-2\" type=\"checkbox\" ><label for=\"sk-estimator-id-2\" class=\"sk-toggleable__label sk-toggleable__label-arrow\">estimator: ExtraTreeClassifier</label><div class=\"sk-toggleable__content\"><pre>ExtraTreeClassifier(max_depth=2, random_state=10)</pre></div></div></div><div class=\"sk-serial\"><div class=\"sk-item\"><div class=\"sk-estimator sk-toggleable\"><input class=\"sk-toggleable__control sk-hidden--visually\" id=\"sk-estimator-id-3\" type=\"checkbox\" ><label for=\"sk-estimator-id-3\" class=\"sk-toggleable__label sk-toggleable__label-arrow\">ExtraTreeClassifier</label><div class=\"sk-toggleable__content\"><pre>ExtraTreeClassifier(max_depth=2, random_state=10)</pre></div></div></div></div></div></div></div></div></div></div>"
      ],
      "text/plain": [
       "BaggingClassifier(estimator=ExtraTreeClassifier(max_depth=2, random_state=10),\n",
       "                  n_estimators=100)"
      ]
     },
     "execution_count": 16,
     "metadata": {},
     "output_type": "execute_result"
    }
   ],
   "source": [
    "model_C = BaggingClassifier(estimator=ExtraTreeClassifier(max_depth=2, random_state=10), n_estimators=100)\n",
    "model_C.fit(xC_train, yC_train)"
   ]
  },
  {
   "cell_type": "code",
   "execution_count": 17,
   "id": "004ce8e7",
   "metadata": {
    "execution": {
     "iopub.execute_input": "2023-12-12T16:14:34.461060Z",
     "iopub.status.busy": "2023-12-12T16:14:34.459954Z",
     "iopub.status.idle": "2023-12-12T16:14:36.453354Z",
     "shell.execute_reply": "2023-12-12T16:14:36.451728Z"
    },
    "papermill": {
     "duration": 2.013495,
     "end_time": "2023-12-12T16:14:36.456102",
     "exception": false,
     "start_time": "2023-12-12T16:14:34.442607",
     "status": "completed"
    },
    "tags": []
   },
   "outputs": [
    {
     "name": "stdout",
     "output_type": "stream",
     "text": [
      "cross_val_score mean = 0.7572735395828943\n",
      "accuracy_score = 0.7407251264755481\n",
      "score = 0.7407251264755481\n"
     ]
    }
   ],
   "source": [
    "scores_C = cross_val_score(model_C, xC_train, yC_train, cv=5)\n",
    "print(\"cross_val_score mean =\", scores_C.mean())\n",
    "yC_pred = model_C.predict(xC_test)\n",
    "print(\"accuracy_score =\", accuracy_score(yC_test, yC_pred))\n",
    "print(\"score =\", model_C.score(xC_test, yC_test))"
   ]
  },
  {
   "cell_type": "code",
   "execution_count": 18,
   "id": "2d6088dd",
   "metadata": {
    "execution": {
     "iopub.execute_input": "2023-12-12T16:14:36.501262Z",
     "iopub.status.busy": "2023-12-12T16:14:36.500873Z",
     "iopub.status.idle": "2023-12-12T16:14:36.511246Z",
     "shell.execute_reply": "2023-12-12T16:14:36.510232Z"
    },
    "papermill": {
     "duration": 0.037393,
     "end_time": "2023-12-12T16:14:36.514315",
     "exception": false,
     "start_time": "2023-12-12T16:14:36.476922",
     "status": "completed"
    },
    "tags": []
   },
   "outputs": [
    {
     "name": "stdout",
     "output_type": "stream",
     "text": [
      "(7905, 18)\n",
      "(7905,)\n"
     ]
    }
   ],
   "source": [
    "# Prediction to CL status\n",
    "xCL = train_df.drop(['id', 'Status'], axis=1)\n",
    "yCL = trainStatusClassCL_df\n",
    "\n",
    "print(xCL.shape)\n",
    "print(yCL.shape)"
   ]
  },
  {
   "cell_type": "code",
   "execution_count": 19,
   "id": "f8b5e3af",
   "metadata": {
    "execution": {
     "iopub.execute_input": "2023-12-12T16:14:36.548359Z",
     "iopub.status.busy": "2023-12-12T16:14:36.547853Z",
     "iopub.status.idle": "2023-12-12T16:14:36.558478Z",
     "shell.execute_reply": "2023-12-12T16:14:36.557012Z"
    },
    "papermill": {
     "duration": 0.031182,
     "end_time": "2023-12-12T16:14:36.561930",
     "exception": false,
     "start_time": "2023-12-12T16:14:36.530748",
     "status": "completed"
    },
    "tags": []
   },
   "outputs": [],
   "source": [
    "xCL_train, xCL_test, yCL_train, yCL_test = train_test_split(xCL, yCL, test_size=0.3, random_state=42)"
   ]
  },
  {
   "cell_type": "code",
   "execution_count": 20,
   "id": "0d154323",
   "metadata": {
    "execution": {
     "iopub.execute_input": "2023-12-12T16:14:36.598520Z",
     "iopub.status.busy": "2023-12-12T16:14:36.597301Z",
     "iopub.status.idle": "2023-12-12T16:14:36.970583Z",
     "shell.execute_reply": "2023-12-12T16:14:36.969307Z"
    },
    "papermill": {
     "duration": 0.392905,
     "end_time": "2023-12-12T16:14:36.973264",
     "exception": false,
     "start_time": "2023-12-12T16:14:36.580359",
     "status": "completed"
    },
    "tags": []
   },
   "outputs": [
    {
     "data": {
      "text/html": [
       "<style>#sk-container-id-2 {color: black;background-color: white;}#sk-container-id-2 pre{padding: 0;}#sk-container-id-2 div.sk-toggleable {background-color: white;}#sk-container-id-2 label.sk-toggleable__label {cursor: pointer;display: block;width: 100%;margin-bottom: 0;padding: 0.3em;box-sizing: border-box;text-align: center;}#sk-container-id-2 label.sk-toggleable__label-arrow:before {content: \"▸\";float: left;margin-right: 0.25em;color: #696969;}#sk-container-id-2 label.sk-toggleable__label-arrow:hover:before {color: black;}#sk-container-id-2 div.sk-estimator:hover label.sk-toggleable__label-arrow:before {color: black;}#sk-container-id-2 div.sk-toggleable__content {max-height: 0;max-width: 0;overflow: hidden;text-align: left;background-color: #f0f8ff;}#sk-container-id-2 div.sk-toggleable__content pre {margin: 0.2em;color: black;border-radius: 0.25em;background-color: #f0f8ff;}#sk-container-id-2 input.sk-toggleable__control:checked~div.sk-toggleable__content {max-height: 200px;max-width: 100%;overflow: auto;}#sk-container-id-2 input.sk-toggleable__control:checked~label.sk-toggleable__label-arrow:before {content: \"▾\";}#sk-container-id-2 div.sk-estimator input.sk-toggleable__control:checked~label.sk-toggleable__label {background-color: #d4ebff;}#sk-container-id-2 div.sk-label input.sk-toggleable__control:checked~label.sk-toggleable__label {background-color: #d4ebff;}#sk-container-id-2 input.sk-hidden--visually {border: 0;clip: rect(1px 1px 1px 1px);clip: rect(1px, 1px, 1px, 1px);height: 1px;margin: -1px;overflow: hidden;padding: 0;position: absolute;width: 1px;}#sk-container-id-2 div.sk-estimator {font-family: monospace;background-color: #f0f8ff;border: 1px dotted black;border-radius: 0.25em;box-sizing: border-box;margin-bottom: 0.5em;}#sk-container-id-2 div.sk-estimator:hover {background-color: #d4ebff;}#sk-container-id-2 div.sk-parallel-item::after {content: \"\";width: 100%;border-bottom: 1px solid gray;flex-grow: 1;}#sk-container-id-2 div.sk-label:hover label.sk-toggleable__label {background-color: #d4ebff;}#sk-container-id-2 div.sk-serial::before {content: \"\";position: absolute;border-left: 1px solid gray;box-sizing: border-box;top: 0;bottom: 0;left: 50%;z-index: 0;}#sk-container-id-2 div.sk-serial {display: flex;flex-direction: column;align-items: center;background-color: white;padding-right: 0.2em;padding-left: 0.2em;position: relative;}#sk-container-id-2 div.sk-item {position: relative;z-index: 1;}#sk-container-id-2 div.sk-parallel {display: flex;align-items: stretch;justify-content: center;background-color: white;position: relative;}#sk-container-id-2 div.sk-item::before, #sk-container-id-2 div.sk-parallel-item::before {content: \"\";position: absolute;border-left: 1px solid gray;box-sizing: border-box;top: 0;bottom: 0;left: 50%;z-index: -1;}#sk-container-id-2 div.sk-parallel-item {display: flex;flex-direction: column;z-index: 1;position: relative;background-color: white;}#sk-container-id-2 div.sk-parallel-item:first-child::after {align-self: flex-end;width: 50%;}#sk-container-id-2 div.sk-parallel-item:last-child::after {align-self: flex-start;width: 50%;}#sk-container-id-2 div.sk-parallel-item:only-child::after {width: 0;}#sk-container-id-2 div.sk-dashed-wrapped {border: 1px dashed gray;margin: 0 0.4em 0.5em 0.4em;box-sizing: border-box;padding-bottom: 0.4em;background-color: white;}#sk-container-id-2 div.sk-label label {font-family: monospace;font-weight: bold;display: inline-block;line-height: 1.2em;}#sk-container-id-2 div.sk-label-container {text-align: center;}#sk-container-id-2 div.sk-container {/* jupyter's `normalize.less` sets `[hidden] { display: none; }` but bootstrap.min.css set `[hidden] { display: none !important; }` so we also need the `!important` here to be able to override the default hidden behavior on the sphinx rendered scikit-learn.org. See: https://github.com/scikit-learn/scikit-learn/issues/21755 */display: inline-block !important;position: relative;}#sk-container-id-2 div.sk-text-repr-fallback {display: none;}</style><div id=\"sk-container-id-2\" class=\"sk-top-container\"><div class=\"sk-text-repr-fallback\"><pre>BaggingClassifier(estimator=ExtraTreeClassifier(max_depth=2, random_state=10),\n",
       "                  n_estimators=100)</pre><b>In a Jupyter environment, please rerun this cell to show the HTML representation or trust the notebook. <br />On GitHub, the HTML representation is unable to render, please try loading this page with nbviewer.org.</b></div><div class=\"sk-container\" hidden><div class=\"sk-item sk-dashed-wrapped\"><div class=\"sk-label-container\"><div class=\"sk-label sk-toggleable\"><input class=\"sk-toggleable__control sk-hidden--visually\" id=\"sk-estimator-id-4\" type=\"checkbox\" ><label for=\"sk-estimator-id-4\" class=\"sk-toggleable__label sk-toggleable__label-arrow\">BaggingClassifier</label><div class=\"sk-toggleable__content\"><pre>BaggingClassifier(estimator=ExtraTreeClassifier(max_depth=2, random_state=10),\n",
       "                  n_estimators=100)</pre></div></div></div><div class=\"sk-parallel\"><div class=\"sk-parallel-item\"><div class=\"sk-item\"><div class=\"sk-label-container\"><div class=\"sk-label sk-toggleable\"><input class=\"sk-toggleable__control sk-hidden--visually\" id=\"sk-estimator-id-5\" type=\"checkbox\" ><label for=\"sk-estimator-id-5\" class=\"sk-toggleable__label sk-toggleable__label-arrow\">estimator: ExtraTreeClassifier</label><div class=\"sk-toggleable__content\"><pre>ExtraTreeClassifier(max_depth=2, random_state=10)</pre></div></div></div><div class=\"sk-serial\"><div class=\"sk-item\"><div class=\"sk-estimator sk-toggleable\"><input class=\"sk-toggleable__control sk-hidden--visually\" id=\"sk-estimator-id-6\" type=\"checkbox\" ><label for=\"sk-estimator-id-6\" class=\"sk-toggleable__label sk-toggleable__label-arrow\">ExtraTreeClassifier</label><div class=\"sk-toggleable__content\"><pre>ExtraTreeClassifier(max_depth=2, random_state=10)</pre></div></div></div></div></div></div></div></div></div></div>"
      ],
      "text/plain": [
       "BaggingClassifier(estimator=ExtraTreeClassifier(max_depth=2, random_state=10),\n",
       "                  n_estimators=100)"
      ]
     },
     "execution_count": 20,
     "metadata": {},
     "output_type": "execute_result"
    }
   ],
   "source": [
    "model_CL = BaggingClassifier(estimator=ExtraTreeClassifier(max_depth=2, random_state=10), n_estimators=100)\n",
    "model_CL.fit(xCL_train, yCL_train)"
   ]
  },
  {
   "cell_type": "code",
   "execution_count": 21,
   "id": "a9e4e6db",
   "metadata": {
    "execution": {
     "iopub.execute_input": "2023-12-12T16:14:37.008493Z",
     "iopub.status.busy": "2023-12-12T16:14:37.008020Z",
     "iopub.status.idle": "2023-12-12T16:14:38.993867Z",
     "shell.execute_reply": "2023-12-12T16:14:38.992327Z"
    },
    "papermill": {
     "duration": 2.007249,
     "end_time": "2023-12-12T16:14:38.996668",
     "exception": false,
     "start_time": "2023-12-12T16:14:36.989419",
     "status": "completed"
    },
    "tags": []
   },
   "outputs": [
    {
     "name": "stdout",
     "output_type": "stream",
     "text": [
      "cross_val_score mean = 0.9652992382847276\n",
      "accuracy_score = 0.965008431703204\n",
      "score = 0.965008431703204\n"
     ]
    }
   ],
   "source": [
    "scores_CL = cross_val_score(model_CL, xCL_train, yCL_train, cv=5)\n",
    "print(\"cross_val_score mean =\", scores_CL.mean())\n",
    "yCL_pred = model_CL.predict(xCL_test)\n",
    "print(\"accuracy_score =\", accuracy_score(yCL_test, yCL_pred))\n",
    "print(\"score =\", model_CL.score(xCL_test, yCL_test))"
   ]
  },
  {
   "cell_type": "code",
   "execution_count": 22,
   "id": "7ce7b1d1",
   "metadata": {
    "execution": {
     "iopub.execute_input": "2023-12-12T16:14:39.030699Z",
     "iopub.status.busy": "2023-12-12T16:14:39.030265Z",
     "iopub.status.idle": "2023-12-12T16:14:39.038598Z",
     "shell.execute_reply": "2023-12-12T16:14:39.037371Z"
    },
    "papermill": {
     "duration": 0.028623,
     "end_time": "2023-12-12T16:14:39.041566",
     "exception": false,
     "start_time": "2023-12-12T16:14:39.012943",
     "status": "completed"
    },
    "tags": []
   },
   "outputs": [
    {
     "name": "stdout",
     "output_type": "stream",
     "text": [
      "(7905, 18)\n",
      "(7905,)\n"
     ]
    }
   ],
   "source": [
    "# Prediction to D status\n",
    "xD = train_df.drop(['id', 'Status'], axis=1)\n",
    "yD = trainStatusClassD_df\n",
    "\n",
    "print(xD.shape)\n",
    "print(yD.shape)"
   ]
  },
  {
   "cell_type": "code",
   "execution_count": 23,
   "id": "7df10b98",
   "metadata": {
    "execution": {
     "iopub.execute_input": "2023-12-12T16:14:39.075542Z",
     "iopub.status.busy": "2023-12-12T16:14:39.075080Z",
     "iopub.status.idle": "2023-12-12T16:14:39.085596Z",
     "shell.execute_reply": "2023-12-12T16:14:39.084688Z"
    },
    "papermill": {
     "duration": 0.030203,
     "end_time": "2023-12-12T16:14:39.087839",
     "exception": false,
     "start_time": "2023-12-12T16:14:39.057636",
     "status": "completed"
    },
    "tags": []
   },
   "outputs": [],
   "source": [
    "xD_train, xD_test, yD_train, yD_test = train_test_split(xD, yD, test_size=0.3, random_state=42)"
   ]
  },
  {
   "cell_type": "code",
   "execution_count": 24,
   "id": "e1b01c43",
   "metadata": {
    "execution": {
     "iopub.execute_input": "2023-12-12T16:14:39.123711Z",
     "iopub.status.busy": "2023-12-12T16:14:39.122567Z",
     "iopub.status.idle": "2023-12-12T16:14:39.488472Z",
     "shell.execute_reply": "2023-12-12T16:14:39.487370Z"
    },
    "papermill": {
     "duration": 0.386615,
     "end_time": "2023-12-12T16:14:39.491086",
     "exception": false,
     "start_time": "2023-12-12T16:14:39.104471",
     "status": "completed"
    },
    "tags": []
   },
   "outputs": [
    {
     "data": {
      "text/html": [
       "<style>#sk-container-id-3 {color: black;background-color: white;}#sk-container-id-3 pre{padding: 0;}#sk-container-id-3 div.sk-toggleable {background-color: white;}#sk-container-id-3 label.sk-toggleable__label {cursor: pointer;display: block;width: 100%;margin-bottom: 0;padding: 0.3em;box-sizing: border-box;text-align: center;}#sk-container-id-3 label.sk-toggleable__label-arrow:before {content: \"▸\";float: left;margin-right: 0.25em;color: #696969;}#sk-container-id-3 label.sk-toggleable__label-arrow:hover:before {color: black;}#sk-container-id-3 div.sk-estimator:hover label.sk-toggleable__label-arrow:before {color: black;}#sk-container-id-3 div.sk-toggleable__content {max-height: 0;max-width: 0;overflow: hidden;text-align: left;background-color: #f0f8ff;}#sk-container-id-3 div.sk-toggleable__content pre {margin: 0.2em;color: black;border-radius: 0.25em;background-color: #f0f8ff;}#sk-container-id-3 input.sk-toggleable__control:checked~div.sk-toggleable__content {max-height: 200px;max-width: 100%;overflow: auto;}#sk-container-id-3 input.sk-toggleable__control:checked~label.sk-toggleable__label-arrow:before {content: \"▾\";}#sk-container-id-3 div.sk-estimator input.sk-toggleable__control:checked~label.sk-toggleable__label {background-color: #d4ebff;}#sk-container-id-3 div.sk-label input.sk-toggleable__control:checked~label.sk-toggleable__label {background-color: #d4ebff;}#sk-container-id-3 input.sk-hidden--visually {border: 0;clip: rect(1px 1px 1px 1px);clip: rect(1px, 1px, 1px, 1px);height: 1px;margin: -1px;overflow: hidden;padding: 0;position: absolute;width: 1px;}#sk-container-id-3 div.sk-estimator {font-family: monospace;background-color: #f0f8ff;border: 1px dotted black;border-radius: 0.25em;box-sizing: border-box;margin-bottom: 0.5em;}#sk-container-id-3 div.sk-estimator:hover {background-color: #d4ebff;}#sk-container-id-3 div.sk-parallel-item::after {content: \"\";width: 100%;border-bottom: 1px solid gray;flex-grow: 1;}#sk-container-id-3 div.sk-label:hover label.sk-toggleable__label {background-color: #d4ebff;}#sk-container-id-3 div.sk-serial::before {content: \"\";position: absolute;border-left: 1px solid gray;box-sizing: border-box;top: 0;bottom: 0;left: 50%;z-index: 0;}#sk-container-id-3 div.sk-serial {display: flex;flex-direction: column;align-items: center;background-color: white;padding-right: 0.2em;padding-left: 0.2em;position: relative;}#sk-container-id-3 div.sk-item {position: relative;z-index: 1;}#sk-container-id-3 div.sk-parallel {display: flex;align-items: stretch;justify-content: center;background-color: white;position: relative;}#sk-container-id-3 div.sk-item::before, #sk-container-id-3 div.sk-parallel-item::before {content: \"\";position: absolute;border-left: 1px solid gray;box-sizing: border-box;top: 0;bottom: 0;left: 50%;z-index: -1;}#sk-container-id-3 div.sk-parallel-item {display: flex;flex-direction: column;z-index: 1;position: relative;background-color: white;}#sk-container-id-3 div.sk-parallel-item:first-child::after {align-self: flex-end;width: 50%;}#sk-container-id-3 div.sk-parallel-item:last-child::after {align-self: flex-start;width: 50%;}#sk-container-id-3 div.sk-parallel-item:only-child::after {width: 0;}#sk-container-id-3 div.sk-dashed-wrapped {border: 1px dashed gray;margin: 0 0.4em 0.5em 0.4em;box-sizing: border-box;padding-bottom: 0.4em;background-color: white;}#sk-container-id-3 div.sk-label label {font-family: monospace;font-weight: bold;display: inline-block;line-height: 1.2em;}#sk-container-id-3 div.sk-label-container {text-align: center;}#sk-container-id-3 div.sk-container {/* jupyter's `normalize.less` sets `[hidden] { display: none; }` but bootstrap.min.css set `[hidden] { display: none !important; }` so we also need the `!important` here to be able to override the default hidden behavior on the sphinx rendered scikit-learn.org. See: https://github.com/scikit-learn/scikit-learn/issues/21755 */display: inline-block !important;position: relative;}#sk-container-id-3 div.sk-text-repr-fallback {display: none;}</style><div id=\"sk-container-id-3\" class=\"sk-top-container\"><div class=\"sk-text-repr-fallback\"><pre>BaggingClassifier(estimator=ExtraTreeClassifier(max_depth=2, random_state=10),\n",
       "                  n_estimators=100)</pre><b>In a Jupyter environment, please rerun this cell to show the HTML representation or trust the notebook. <br />On GitHub, the HTML representation is unable to render, please try loading this page with nbviewer.org.</b></div><div class=\"sk-container\" hidden><div class=\"sk-item sk-dashed-wrapped\"><div class=\"sk-label-container\"><div class=\"sk-label sk-toggleable\"><input class=\"sk-toggleable__control sk-hidden--visually\" id=\"sk-estimator-id-7\" type=\"checkbox\" ><label for=\"sk-estimator-id-7\" class=\"sk-toggleable__label sk-toggleable__label-arrow\">BaggingClassifier</label><div class=\"sk-toggleable__content\"><pre>BaggingClassifier(estimator=ExtraTreeClassifier(max_depth=2, random_state=10),\n",
       "                  n_estimators=100)</pre></div></div></div><div class=\"sk-parallel\"><div class=\"sk-parallel-item\"><div class=\"sk-item\"><div class=\"sk-label-container\"><div class=\"sk-label sk-toggleable\"><input class=\"sk-toggleable__control sk-hidden--visually\" id=\"sk-estimator-id-8\" type=\"checkbox\" ><label for=\"sk-estimator-id-8\" class=\"sk-toggleable__label sk-toggleable__label-arrow\">estimator: ExtraTreeClassifier</label><div class=\"sk-toggleable__content\"><pre>ExtraTreeClassifier(max_depth=2, random_state=10)</pre></div></div></div><div class=\"sk-serial\"><div class=\"sk-item\"><div class=\"sk-estimator sk-toggleable\"><input class=\"sk-toggleable__control sk-hidden--visually\" id=\"sk-estimator-id-9\" type=\"checkbox\" ><label for=\"sk-estimator-id-9\" class=\"sk-toggleable__label sk-toggleable__label-arrow\">ExtraTreeClassifier</label><div class=\"sk-toggleable__content\"><pre>ExtraTreeClassifier(max_depth=2, random_state=10)</pre></div></div></div></div></div></div></div></div></div></div>"
      ],
      "text/plain": [
       "BaggingClassifier(estimator=ExtraTreeClassifier(max_depth=2, random_state=10),\n",
       "                  n_estimators=100)"
      ]
     },
     "execution_count": 24,
     "metadata": {},
     "output_type": "execute_result"
    }
   ],
   "source": [
    "model_D = BaggingClassifier(estimator=ExtraTreeClassifier(max_depth=2, random_state=10), n_estimators=100)\n",
    "model_D.fit(xD_train, yD_train)"
   ]
  },
  {
   "cell_type": "code",
   "execution_count": 25,
   "id": "7301e17e",
   "metadata": {
    "execution": {
     "iopub.execute_input": "2023-12-12T16:14:39.526015Z",
     "iopub.status.busy": "2023-12-12T16:14:39.525593Z",
     "iopub.status.idle": "2023-12-12T16:14:41.496884Z",
     "shell.execute_reply": "2023-12-12T16:14:41.495374Z"
    },
    "papermill": {
     "duration": 1.991966,
     "end_time": "2023-12-12T16:14:41.499655",
     "exception": false,
     "start_time": "2023-12-12T16:14:39.507689",
     "status": "completed"
    },
    "tags": []
   },
   "outputs": [
    {
     "name": "stdout",
     "output_type": "stream",
     "text": [
      "cross_val_score mean = 0.754927626431177\n",
      "accuracy_score = 0.7331365935919055\n",
      "score = 0.7331365935919055\n"
     ]
    }
   ],
   "source": [
    "scores_D = cross_val_score(model_D, xD_train, yD_train, cv=5)\n",
    "print(\"cross_val_score mean =\", scores_D.mean())\n",
    "yD_pred = model_D.predict(xD_test)\n",
    "print(\"accuracy_score =\", accuracy_score(yD_test, yD_pred))\n",
    "print(\"score =\", model_D.score(xD_test, yD_test))"
   ]
  },
  {
   "cell_type": "markdown",
   "id": "0743b471",
   "metadata": {
    "papermill": {
     "duration": 0.016738,
     "end_time": "2023-12-12T16:14:41.533483",
     "exception": false,
     "start_time": "2023-12-12T16:14:41.516745",
     "status": "completed"
    },
    "tags": []
   },
   "source": [
    "# Data Wrangling (Test Data)\n",
    "This section is about gathering data, assessing data, and cleaning data. I did this to synchronize the test data with the train data."
   ]
  },
  {
   "cell_type": "code",
   "execution_count": 26,
   "id": "09b11fbe",
   "metadata": {
    "execution": {
     "iopub.execute_input": "2023-12-12T16:14:41.568902Z",
     "iopub.status.busy": "2023-12-12T16:14:41.568251Z",
     "iopub.status.idle": "2023-12-12T16:14:41.623392Z",
     "shell.execute_reply": "2023-12-12T16:14:41.621846Z"
    },
    "papermill": {
     "duration": 0.076001,
     "end_time": "2023-12-12T16:14:41.626209",
     "exception": false,
     "start_time": "2023-12-12T16:14:41.550208",
     "status": "completed"
    },
    "tags": []
   },
   "outputs": [
    {
     "data": {
      "text/html": [
       "<div>\n",
       "<style scoped>\n",
       "    .dataframe tbody tr th:only-of-type {\n",
       "        vertical-align: middle;\n",
       "    }\n",
       "\n",
       "    .dataframe tbody tr th {\n",
       "        vertical-align: top;\n",
       "    }\n",
       "\n",
       "    .dataframe thead th {\n",
       "        text-align: right;\n",
       "    }\n",
       "</style>\n",
       "<table border=\"1\" class=\"dataframe\">\n",
       "  <thead>\n",
       "    <tr style=\"text-align: right;\">\n",
       "      <th></th>\n",
       "      <th>id</th>\n",
       "      <th>N_Days</th>\n",
       "      <th>Drug</th>\n",
       "      <th>Age</th>\n",
       "      <th>Sex</th>\n",
       "      <th>Ascites</th>\n",
       "      <th>Hepatomegaly</th>\n",
       "      <th>Spiders</th>\n",
       "      <th>Edema</th>\n",
       "      <th>Bilirubin</th>\n",
       "      <th>Cholesterol</th>\n",
       "      <th>Albumin</th>\n",
       "      <th>Copper</th>\n",
       "      <th>Alk_Phos</th>\n",
       "      <th>SGOT</th>\n",
       "      <th>Tryglicerides</th>\n",
       "      <th>Platelets</th>\n",
       "      <th>Prothrombin</th>\n",
       "      <th>Stage</th>\n",
       "    </tr>\n",
       "  </thead>\n",
       "  <tbody>\n",
       "    <tr>\n",
       "      <th>0</th>\n",
       "      <td>7905</td>\n",
       "      <td>3839</td>\n",
       "      <td>D-penicillamine</td>\n",
       "      <td>19724</td>\n",
       "      <td>F</td>\n",
       "      <td>N</td>\n",
       "      <td>Y</td>\n",
       "      <td>N</td>\n",
       "      <td>N</td>\n",
       "      <td>1.2</td>\n",
       "      <td>546.0</td>\n",
       "      <td>3.37</td>\n",
       "      <td>65.0</td>\n",
       "      <td>1636.0</td>\n",
       "      <td>151.90</td>\n",
       "      <td>90.0</td>\n",
       "      <td>430.0</td>\n",
       "      <td>10.6</td>\n",
       "      <td>2.0</td>\n",
       "    </tr>\n",
       "    <tr>\n",
       "      <th>1</th>\n",
       "      <td>7906</td>\n",
       "      <td>2468</td>\n",
       "      <td>D-penicillamine</td>\n",
       "      <td>14975</td>\n",
       "      <td>F</td>\n",
       "      <td>N</td>\n",
       "      <td>N</td>\n",
       "      <td>N</td>\n",
       "      <td>N</td>\n",
       "      <td>1.1</td>\n",
       "      <td>660.0</td>\n",
       "      <td>4.22</td>\n",
       "      <td>94.0</td>\n",
       "      <td>1257.0</td>\n",
       "      <td>151.90</td>\n",
       "      <td>155.0</td>\n",
       "      <td>227.0</td>\n",
       "      <td>10.0</td>\n",
       "      <td>2.0</td>\n",
       "    </tr>\n",
       "    <tr>\n",
       "      <th>2</th>\n",
       "      <td>7907</td>\n",
       "      <td>51</td>\n",
       "      <td>Placebo</td>\n",
       "      <td>13149</td>\n",
       "      <td>F</td>\n",
       "      <td>N</td>\n",
       "      <td>Y</td>\n",
       "      <td>N</td>\n",
       "      <td>Y</td>\n",
       "      <td>2.0</td>\n",
       "      <td>151.0</td>\n",
       "      <td>2.96</td>\n",
       "      <td>46.0</td>\n",
       "      <td>961.0</td>\n",
       "      <td>69.75</td>\n",
       "      <td>101.0</td>\n",
       "      <td>213.0</td>\n",
       "      <td>13.0</td>\n",
       "      <td>4.0</td>\n",
       "    </tr>\n",
       "    <tr>\n",
       "      <th>3</th>\n",
       "      <td>7908</td>\n",
       "      <td>2330</td>\n",
       "      <td>D-penicillamine</td>\n",
       "      <td>20510</td>\n",
       "      <td>F</td>\n",
       "      <td>N</td>\n",
       "      <td>N</td>\n",
       "      <td>N</td>\n",
       "      <td>N</td>\n",
       "      <td>0.6</td>\n",
       "      <td>293.0</td>\n",
       "      <td>3.85</td>\n",
       "      <td>40.0</td>\n",
       "      <td>554.0</td>\n",
       "      <td>125.55</td>\n",
       "      <td>56.0</td>\n",
       "      <td>270.0</td>\n",
       "      <td>10.6</td>\n",
       "      <td>2.0</td>\n",
       "    </tr>\n",
       "    <tr>\n",
       "      <th>4</th>\n",
       "      <td>7909</td>\n",
       "      <td>1615</td>\n",
       "      <td>D-penicillamine</td>\n",
       "      <td>21904</td>\n",
       "      <td>F</td>\n",
       "      <td>N</td>\n",
       "      <td>Y</td>\n",
       "      <td>N</td>\n",
       "      <td>N</td>\n",
       "      <td>1.4</td>\n",
       "      <td>277.0</td>\n",
       "      <td>2.97</td>\n",
       "      <td>121.0</td>\n",
       "      <td>1110.0</td>\n",
       "      <td>125.00</td>\n",
       "      <td>126.0</td>\n",
       "      <td>221.0</td>\n",
       "      <td>9.8</td>\n",
       "      <td>1.0</td>\n",
       "    </tr>\n",
       "  </tbody>\n",
       "</table>\n",
       "</div>"
      ],
      "text/plain": [
       "     id  N_Days             Drug    Age Sex Ascites Hepatomegaly Spiders  \\\n",
       "0  7905    3839  D-penicillamine  19724   F       N            Y       N   \n",
       "1  7906    2468  D-penicillamine  14975   F       N            N       N   \n",
       "2  7907      51          Placebo  13149   F       N            Y       N   \n",
       "3  7908    2330  D-penicillamine  20510   F       N            N       N   \n",
       "4  7909    1615  D-penicillamine  21904   F       N            Y       N   \n",
       "\n",
       "  Edema  Bilirubin  Cholesterol  Albumin  Copper  Alk_Phos    SGOT  \\\n",
       "0     N        1.2        546.0     3.37    65.0    1636.0  151.90   \n",
       "1     N        1.1        660.0     4.22    94.0    1257.0  151.90   \n",
       "2     Y        2.0        151.0     2.96    46.0     961.0   69.75   \n",
       "3     N        0.6        293.0     3.85    40.0     554.0  125.55   \n",
       "4     N        1.4        277.0     2.97   121.0    1110.0  125.00   \n",
       "\n",
       "   Tryglicerides  Platelets  Prothrombin  Stage  \n",
       "0           90.0      430.0         10.6    2.0  \n",
       "1          155.0      227.0         10.0    2.0  \n",
       "2          101.0      213.0         13.0    4.0  \n",
       "3           56.0      270.0         10.6    2.0  \n",
       "4          126.0      221.0          9.8    1.0  "
      ]
     },
     "execution_count": 26,
     "metadata": {},
     "output_type": "execute_result"
    }
   ],
   "source": [
    "test_df = pd.read_csv(\"/kaggle/input/playground-series-s3e26/test.csv\")\n",
    "test_df.head()"
   ]
  },
  {
   "cell_type": "code",
   "execution_count": 27,
   "id": "a65c0c3b",
   "metadata": {
    "execution": {
     "iopub.execute_input": "2023-12-12T16:14:41.662404Z",
     "iopub.status.busy": "2023-12-12T16:14:41.661895Z",
     "iopub.status.idle": "2023-12-12T16:14:41.668479Z",
     "shell.execute_reply": "2023-12-12T16:14:41.667563Z"
    },
    "papermill": {
     "duration": 0.027653,
     "end_time": "2023-12-12T16:14:41.670912",
     "exception": false,
     "start_time": "2023-12-12T16:14:41.643259",
     "status": "completed"
    },
    "tags": []
   },
   "outputs": [],
   "source": [
    "test_df = test_df.drop(['id'], axis=1)"
   ]
  },
  {
   "cell_type": "code",
   "execution_count": 28,
   "id": "a1cc221a",
   "metadata": {
    "execution": {
     "iopub.execute_input": "2023-12-12T16:14:41.707310Z",
     "iopub.status.busy": "2023-12-12T16:14:41.706495Z",
     "iopub.status.idle": "2023-12-12T16:14:41.723520Z",
     "shell.execute_reply": "2023-12-12T16:14:41.721780Z"
    },
    "papermill": {
     "duration": 0.038641,
     "end_time": "2023-12-12T16:14:41.726679",
     "exception": false,
     "start_time": "2023-12-12T16:14:41.688038",
     "status": "completed"
    },
    "tags": []
   },
   "outputs": [
    {
     "name": "stdout",
     "output_type": "stream",
     "text": [
      "<class 'pandas.core.frame.DataFrame'>\n",
      "RangeIndex: 5271 entries, 0 to 5270\n",
      "Data columns (total 18 columns):\n",
      " #   Column         Non-Null Count  Dtype  \n",
      "---  ------         --------------  -----  \n",
      " 0   N_Days         5271 non-null   int64  \n",
      " 1   Drug           5271 non-null   object \n",
      " 2   Age            5271 non-null   int64  \n",
      " 3   Sex            5271 non-null   object \n",
      " 4   Ascites        5271 non-null   object \n",
      " 5   Hepatomegaly   5271 non-null   object \n",
      " 6   Spiders        5271 non-null   object \n",
      " 7   Edema          5271 non-null   object \n",
      " 8   Bilirubin      5271 non-null   float64\n",
      " 9   Cholesterol    5271 non-null   float64\n",
      " 10  Albumin        5271 non-null   float64\n",
      " 11  Copper         5271 non-null   float64\n",
      " 12  Alk_Phos       5271 non-null   float64\n",
      " 13  SGOT           5271 non-null   float64\n",
      " 14  Tryglicerides  5271 non-null   float64\n",
      " 15  Platelets      5271 non-null   float64\n",
      " 16  Prothrombin    5271 non-null   float64\n",
      " 17  Stage          5271 non-null   float64\n",
      "dtypes: float64(10), int64(2), object(6)\n",
      "memory usage: 741.4+ KB\n"
     ]
    }
   ],
   "source": [
    "test_df.info()"
   ]
  },
  {
   "cell_type": "code",
   "execution_count": 29,
   "id": "2a656e1a",
   "metadata": {
    "execution": {
     "iopub.execute_input": "2023-12-12T16:14:41.764566Z",
     "iopub.status.busy": "2023-12-12T16:14:41.763868Z",
     "iopub.status.idle": "2023-12-12T16:14:41.774840Z",
     "shell.execute_reply": "2023-12-12T16:14:41.773143Z"
    },
    "papermill": {
     "duration": 0.034385,
     "end_time": "2023-12-12T16:14:41.778613",
     "exception": false,
     "start_time": "2023-12-12T16:14:41.744228",
     "status": "completed"
    },
    "tags": []
   },
   "outputs": [],
   "source": [
    "drugT_labels = test_df['Drug'].unique().tolist()\n",
    "sexT_labels = test_df['Sex'].unique().tolist()\n",
    "ascitesT_labels = test_df['Ascites'].unique().tolist()\n",
    "hepatomegalyT_labels = test_df['Hepatomegaly'].unique().tolist()\n",
    "spidersT_labels = test_df['Spiders'].unique().tolist()\n",
    "edemaT_labels = test_df['Edema'].unique().tolist()"
   ]
  },
  {
   "cell_type": "code",
   "execution_count": 30,
   "id": "caef2fa2",
   "metadata": {
    "execution": {
     "iopub.execute_input": "2023-12-12T16:14:41.818547Z",
     "iopub.status.busy": "2023-12-12T16:14:41.818077Z",
     "iopub.status.idle": "2023-12-12T16:14:41.857766Z",
     "shell.execute_reply": "2023-12-12T16:14:41.856399Z"
    },
    "papermill": {
     "duration": 0.063558,
     "end_time": "2023-12-12T16:14:41.860669",
     "exception": false,
     "start_time": "2023-12-12T16:14:41.797111",
     "status": "completed"
    },
    "tags": []
   },
   "outputs": [],
   "source": [
    "test_df[\"Drug\"] = test_df[\"Drug\"].apply(lambda x: drugT_labels.index(x))\n",
    "test_df[\"Sex\"] = test_df[\"Sex\"].apply(lambda x: sexT_labels.index(x))\n",
    "test_df[\"Ascites\"] = test_df[\"Ascites\"].apply(lambda x: ascitesT_labels.index(x))\n",
    "test_df[\"Hepatomegaly\"] = test_df[\"Hepatomegaly\"].apply(lambda x: hepatomegalyT_labels.index(x))\n",
    "test_df[\"Spiders\"] = test_df[\"Spiders\"].apply(lambda x: spidersT_labels.index(x))\n",
    "test_df[\"Edema\"] = test_df[\"Edema\"].apply(lambda x: edemaT_labels.index(x))"
   ]
  },
  {
   "cell_type": "code",
   "execution_count": 31,
   "id": "328d9a43",
   "metadata": {
    "execution": {
     "iopub.execute_input": "2023-12-12T16:14:41.897873Z",
     "iopub.status.busy": "2023-12-12T16:14:41.897429Z",
     "iopub.status.idle": "2023-12-12T16:14:41.926961Z",
     "shell.execute_reply": "2023-12-12T16:14:41.925199Z"
    },
    "papermill": {
     "duration": 0.051515,
     "end_time": "2023-12-12T16:14:41.930098",
     "exception": false,
     "start_time": "2023-12-12T16:14:41.878583",
     "status": "completed"
    },
    "tags": []
   },
   "outputs": [
    {
     "data": {
      "text/html": [
       "<div>\n",
       "<style scoped>\n",
       "    .dataframe tbody tr th:only-of-type {\n",
       "        vertical-align: middle;\n",
       "    }\n",
       "\n",
       "    .dataframe tbody tr th {\n",
       "        vertical-align: top;\n",
       "    }\n",
       "\n",
       "    .dataframe thead th {\n",
       "        text-align: right;\n",
       "    }\n",
       "</style>\n",
       "<table border=\"1\" class=\"dataframe\">\n",
       "  <thead>\n",
       "    <tr style=\"text-align: right;\">\n",
       "      <th></th>\n",
       "      <th>N_Days</th>\n",
       "      <th>Drug</th>\n",
       "      <th>Age</th>\n",
       "      <th>Sex</th>\n",
       "      <th>Ascites</th>\n",
       "      <th>Hepatomegaly</th>\n",
       "      <th>Spiders</th>\n",
       "      <th>Edema</th>\n",
       "      <th>Bilirubin</th>\n",
       "      <th>Cholesterol</th>\n",
       "      <th>Albumin</th>\n",
       "      <th>Copper</th>\n",
       "      <th>Alk_Phos</th>\n",
       "      <th>SGOT</th>\n",
       "      <th>Tryglicerides</th>\n",
       "      <th>Platelets</th>\n",
       "      <th>Prothrombin</th>\n",
       "      <th>Stage</th>\n",
       "    </tr>\n",
       "  </thead>\n",
       "  <tbody>\n",
       "    <tr>\n",
       "      <th>0</th>\n",
       "      <td>3839</td>\n",
       "      <td>0</td>\n",
       "      <td>19724</td>\n",
       "      <td>0</td>\n",
       "      <td>0</td>\n",
       "      <td>0</td>\n",
       "      <td>0</td>\n",
       "      <td>0</td>\n",
       "      <td>1.2</td>\n",
       "      <td>546.0</td>\n",
       "      <td>3.37</td>\n",
       "      <td>65.0</td>\n",
       "      <td>1636.0</td>\n",
       "      <td>151.90</td>\n",
       "      <td>90.0</td>\n",
       "      <td>430.0</td>\n",
       "      <td>10.6</td>\n",
       "      <td>2.0</td>\n",
       "    </tr>\n",
       "    <tr>\n",
       "      <th>1</th>\n",
       "      <td>2468</td>\n",
       "      <td>0</td>\n",
       "      <td>14975</td>\n",
       "      <td>0</td>\n",
       "      <td>0</td>\n",
       "      <td>1</td>\n",
       "      <td>0</td>\n",
       "      <td>0</td>\n",
       "      <td>1.1</td>\n",
       "      <td>660.0</td>\n",
       "      <td>4.22</td>\n",
       "      <td>94.0</td>\n",
       "      <td>1257.0</td>\n",
       "      <td>151.90</td>\n",
       "      <td>155.0</td>\n",
       "      <td>227.0</td>\n",
       "      <td>10.0</td>\n",
       "      <td>2.0</td>\n",
       "    </tr>\n",
       "    <tr>\n",
       "      <th>2</th>\n",
       "      <td>51</td>\n",
       "      <td>1</td>\n",
       "      <td>13149</td>\n",
       "      <td>0</td>\n",
       "      <td>0</td>\n",
       "      <td>0</td>\n",
       "      <td>0</td>\n",
       "      <td>1</td>\n",
       "      <td>2.0</td>\n",
       "      <td>151.0</td>\n",
       "      <td>2.96</td>\n",
       "      <td>46.0</td>\n",
       "      <td>961.0</td>\n",
       "      <td>69.75</td>\n",
       "      <td>101.0</td>\n",
       "      <td>213.0</td>\n",
       "      <td>13.0</td>\n",
       "      <td>4.0</td>\n",
       "    </tr>\n",
       "    <tr>\n",
       "      <th>3</th>\n",
       "      <td>2330</td>\n",
       "      <td>0</td>\n",
       "      <td>20510</td>\n",
       "      <td>0</td>\n",
       "      <td>0</td>\n",
       "      <td>1</td>\n",
       "      <td>0</td>\n",
       "      <td>0</td>\n",
       "      <td>0.6</td>\n",
       "      <td>293.0</td>\n",
       "      <td>3.85</td>\n",
       "      <td>40.0</td>\n",
       "      <td>554.0</td>\n",
       "      <td>125.55</td>\n",
       "      <td>56.0</td>\n",
       "      <td>270.0</td>\n",
       "      <td>10.6</td>\n",
       "      <td>2.0</td>\n",
       "    </tr>\n",
       "    <tr>\n",
       "      <th>4</th>\n",
       "      <td>1615</td>\n",
       "      <td>0</td>\n",
       "      <td>21904</td>\n",
       "      <td>0</td>\n",
       "      <td>0</td>\n",
       "      <td>0</td>\n",
       "      <td>0</td>\n",
       "      <td>0</td>\n",
       "      <td>1.4</td>\n",
       "      <td>277.0</td>\n",
       "      <td>2.97</td>\n",
       "      <td>121.0</td>\n",
       "      <td>1110.0</td>\n",
       "      <td>125.00</td>\n",
       "      <td>126.0</td>\n",
       "      <td>221.0</td>\n",
       "      <td>9.8</td>\n",
       "      <td>1.0</td>\n",
       "    </tr>\n",
       "  </tbody>\n",
       "</table>\n",
       "</div>"
      ],
      "text/plain": [
       "   N_Days  Drug    Age  Sex  Ascites  Hepatomegaly  Spiders  Edema  Bilirubin  \\\n",
       "0    3839     0  19724    0        0             0        0      0        1.2   \n",
       "1    2468     0  14975    0        0             1        0      0        1.1   \n",
       "2      51     1  13149    0        0             0        0      1        2.0   \n",
       "3    2330     0  20510    0        0             1        0      0        0.6   \n",
       "4    1615     0  21904    0        0             0        0      0        1.4   \n",
       "\n",
       "   Cholesterol  Albumin  Copper  Alk_Phos    SGOT  Tryglicerides  Platelets  \\\n",
       "0        546.0     3.37    65.0    1636.0  151.90           90.0      430.0   \n",
       "1        660.0     4.22    94.0    1257.0  151.90          155.0      227.0   \n",
       "2        151.0     2.96    46.0     961.0   69.75          101.0      213.0   \n",
       "3        293.0     3.85    40.0     554.0  125.55           56.0      270.0   \n",
       "4        277.0     2.97   121.0    1110.0  125.00          126.0      221.0   \n",
       "\n",
       "   Prothrombin  Stage  \n",
       "0         10.6    2.0  \n",
       "1         10.0    2.0  \n",
       "2         13.0    4.0  \n",
       "3         10.6    2.0  \n",
       "4          9.8    1.0  "
      ]
     },
     "execution_count": 31,
     "metadata": {},
     "output_type": "execute_result"
    }
   ],
   "source": [
    "test_df.head()"
   ]
  },
  {
   "cell_type": "markdown",
   "id": "cffb7afe",
   "metadata": {
    "papermill": {
     "duration": 0.017887,
     "end_time": "2023-12-12T16:14:41.967341",
     "exception": false,
     "start_time": "2023-12-12T16:14:41.949454",
     "status": "completed"
    },
    "tags": []
   },
   "source": [
    "# Test Data Prediction\n",
    "This section is about prediction. Since the submission example uses probability, I used predict_proba to make the prediction."
   ]
  },
  {
   "cell_type": "code",
   "execution_count": 32,
   "id": "d8258656",
   "metadata": {
    "execution": {
     "iopub.execute_input": "2023-12-12T16:14:42.006050Z",
     "iopub.status.busy": "2023-12-12T16:14:42.004899Z",
     "iopub.status.idle": "2023-12-12T16:14:42.219999Z",
     "shell.execute_reply": "2023-12-12T16:14:42.218860Z"
    },
    "papermill": {
     "duration": 0.237386,
     "end_time": "2023-12-12T16:14:42.222480",
     "exception": false,
     "start_time": "2023-12-12T16:14:41.985094",
     "status": "completed"
    },
    "tags": []
   },
   "outputs": [
    {
     "name": "stdout",
     "output_type": "stream",
     "text": [
      "[0.74479631 0.60593658 0.6095399  ... 0.7561901  0.62358466 0.57897365]\n",
      "[0.0282138  0.04065909 0.04118936 ... 0.02975013 0.04145372 0.03182538]\n",
      "[0.22987333 0.34462578 0.41740456 ... 0.22046478 0.34498613 0.36227679]\n"
     ]
    }
   ],
   "source": [
    "testC_pred = model_C.predict_proba(test_df)[:,1]\n",
    "print(testC_pred)\n",
    "testCL_pred = model_CL.predict_proba(test_df)[:,1]\n",
    "print(testCL_pred)\n",
    "testD_pred = model_D.predict_proba(test_df)[:,1]\n",
    "print(testD_pred)"
   ]
  },
  {
   "cell_type": "code",
   "execution_count": 33,
   "id": "75d00427",
   "metadata": {
    "execution": {
     "iopub.execute_input": "2023-12-12T16:14:42.260320Z",
     "iopub.status.busy": "2023-12-12T16:14:42.259891Z",
     "iopub.status.idle": "2023-12-12T16:14:42.286681Z",
     "shell.execute_reply": "2023-12-12T16:14:42.285329Z"
    },
    "papermill": {
     "duration": 0.049584,
     "end_time": "2023-12-12T16:14:42.289502",
     "exception": false,
     "start_time": "2023-12-12T16:14:42.239918",
     "status": "completed"
    },
    "tags": []
   },
   "outputs": [
    {
     "data": {
      "text/html": [
       "<div>\n",
       "<style scoped>\n",
       "    .dataframe tbody tr th:only-of-type {\n",
       "        vertical-align: middle;\n",
       "    }\n",
       "\n",
       "    .dataframe tbody tr th {\n",
       "        vertical-align: top;\n",
       "    }\n",
       "\n",
       "    .dataframe thead th {\n",
       "        text-align: right;\n",
       "    }\n",
       "</style>\n",
       "<table border=\"1\" class=\"dataframe\">\n",
       "  <thead>\n",
       "    <tr style=\"text-align: right;\">\n",
       "      <th></th>\n",
       "      <th>id</th>\n",
       "      <th>Status_C</th>\n",
       "      <th>Status_CL</th>\n",
       "      <th>Status_D</th>\n",
       "    </tr>\n",
       "  </thead>\n",
       "  <tbody>\n",
       "    <tr>\n",
       "      <th>0</th>\n",
       "      <td>7905</td>\n",
       "      <td>0.628084</td>\n",
       "      <td>0.034788</td>\n",
       "      <td>0.337128</td>\n",
       "    </tr>\n",
       "    <tr>\n",
       "      <th>1</th>\n",
       "      <td>7906</td>\n",
       "      <td>0.628084</td>\n",
       "      <td>0.034788</td>\n",
       "      <td>0.337128</td>\n",
       "    </tr>\n",
       "    <tr>\n",
       "      <th>2</th>\n",
       "      <td>7907</td>\n",
       "      <td>0.628084</td>\n",
       "      <td>0.034788</td>\n",
       "      <td>0.337128</td>\n",
       "    </tr>\n",
       "    <tr>\n",
       "      <th>3</th>\n",
       "      <td>7908</td>\n",
       "      <td>0.628084</td>\n",
       "      <td>0.034788</td>\n",
       "      <td>0.337128</td>\n",
       "    </tr>\n",
       "    <tr>\n",
       "      <th>4</th>\n",
       "      <td>7909</td>\n",
       "      <td>0.628084</td>\n",
       "      <td>0.034788</td>\n",
       "      <td>0.337128</td>\n",
       "    </tr>\n",
       "    <tr>\n",
       "      <th>...</th>\n",
       "      <td>...</td>\n",
       "      <td>...</td>\n",
       "      <td>...</td>\n",
       "      <td>...</td>\n",
       "    </tr>\n",
       "    <tr>\n",
       "      <th>5266</th>\n",
       "      <td>13171</td>\n",
       "      <td>0.628084</td>\n",
       "      <td>0.034788</td>\n",
       "      <td>0.337128</td>\n",
       "    </tr>\n",
       "    <tr>\n",
       "      <th>5267</th>\n",
       "      <td>13172</td>\n",
       "      <td>0.628084</td>\n",
       "      <td>0.034788</td>\n",
       "      <td>0.337128</td>\n",
       "    </tr>\n",
       "    <tr>\n",
       "      <th>5268</th>\n",
       "      <td>13173</td>\n",
       "      <td>0.628084</td>\n",
       "      <td>0.034788</td>\n",
       "      <td>0.337128</td>\n",
       "    </tr>\n",
       "    <tr>\n",
       "      <th>5269</th>\n",
       "      <td>13174</td>\n",
       "      <td>0.628084</td>\n",
       "      <td>0.034788</td>\n",
       "      <td>0.337128</td>\n",
       "    </tr>\n",
       "    <tr>\n",
       "      <th>5270</th>\n",
       "      <td>13175</td>\n",
       "      <td>0.628084</td>\n",
       "      <td>0.034788</td>\n",
       "      <td>0.337128</td>\n",
       "    </tr>\n",
       "  </tbody>\n",
       "</table>\n",
       "<p>5271 rows × 4 columns</p>\n",
       "</div>"
      ],
      "text/plain": [
       "         id  Status_C  Status_CL  Status_D\n",
       "0      7905  0.628084   0.034788  0.337128\n",
       "1      7906  0.628084   0.034788  0.337128\n",
       "2      7907  0.628084   0.034788  0.337128\n",
       "3      7908  0.628084   0.034788  0.337128\n",
       "4      7909  0.628084   0.034788  0.337128\n",
       "...     ...       ...        ...       ...\n",
       "5266  13171  0.628084   0.034788  0.337128\n",
       "5267  13172  0.628084   0.034788  0.337128\n",
       "5268  13173  0.628084   0.034788  0.337128\n",
       "5269  13174  0.628084   0.034788  0.337128\n",
       "5270  13175  0.628084   0.034788  0.337128\n",
       "\n",
       "[5271 rows x 4 columns]"
      ]
     },
     "execution_count": 33,
     "metadata": {},
     "output_type": "execute_result"
    }
   ],
   "source": [
    "submission_df = pd.read_csv(\"/kaggle/input/playground-series-s3e26/sample_submission.csv\")\n",
    "submission_df"
   ]
  },
  {
   "cell_type": "code",
   "execution_count": 34,
   "id": "94cfc80c",
   "metadata": {
    "execution": {
     "iopub.execute_input": "2023-12-12T16:14:42.328177Z",
     "iopub.status.busy": "2023-12-12T16:14:42.327708Z",
     "iopub.status.idle": "2023-12-12T16:14:42.344049Z",
     "shell.execute_reply": "2023-12-12T16:14:42.343154Z"
    },
    "papermill": {
     "duration": 0.038446,
     "end_time": "2023-12-12T16:14:42.346432",
     "exception": false,
     "start_time": "2023-12-12T16:14:42.307986",
     "status": "completed"
    },
    "tags": []
   },
   "outputs": [
    {
     "data": {
      "text/html": [
       "<div>\n",
       "<style scoped>\n",
       "    .dataframe tbody tr th:only-of-type {\n",
       "        vertical-align: middle;\n",
       "    }\n",
       "\n",
       "    .dataframe tbody tr th {\n",
       "        vertical-align: top;\n",
       "    }\n",
       "\n",
       "    .dataframe thead th {\n",
       "        text-align: right;\n",
       "    }\n",
       "</style>\n",
       "<table border=\"1\" class=\"dataframe\">\n",
       "  <thead>\n",
       "    <tr style=\"text-align: right;\">\n",
       "      <th></th>\n",
       "      <th>id</th>\n",
       "      <th>Status_C</th>\n",
       "      <th>Status_CL</th>\n",
       "      <th>Status_D</th>\n",
       "    </tr>\n",
       "  </thead>\n",
       "  <tbody>\n",
       "    <tr>\n",
       "      <th>0</th>\n",
       "      <td>7905</td>\n",
       "      <td>0.744796</td>\n",
       "      <td>0.028214</td>\n",
       "      <td>0.229873</td>\n",
       "    </tr>\n",
       "    <tr>\n",
       "      <th>1</th>\n",
       "      <td>7906</td>\n",
       "      <td>0.605937</td>\n",
       "      <td>0.040659</td>\n",
       "      <td>0.344626</td>\n",
       "    </tr>\n",
       "    <tr>\n",
       "      <th>2</th>\n",
       "      <td>7907</td>\n",
       "      <td>0.609540</td>\n",
       "      <td>0.041189</td>\n",
       "      <td>0.417405</td>\n",
       "    </tr>\n",
       "    <tr>\n",
       "      <th>3</th>\n",
       "      <td>7908</td>\n",
       "      <td>0.630226</td>\n",
       "      <td>0.031700</td>\n",
       "      <td>0.326352</td>\n",
       "    </tr>\n",
       "    <tr>\n",
       "      <th>4</th>\n",
       "      <td>7909</td>\n",
       "      <td>0.738574</td>\n",
       "      <td>0.032910</td>\n",
       "      <td>0.239425</td>\n",
       "    </tr>\n",
       "    <tr>\n",
       "      <th>...</th>\n",
       "      <td>...</td>\n",
       "      <td>...</td>\n",
       "      <td>...</td>\n",
       "      <td>...</td>\n",
       "    </tr>\n",
       "    <tr>\n",
       "      <th>5266</th>\n",
       "      <td>13171</td>\n",
       "      <td>0.606528</td>\n",
       "      <td>0.040096</td>\n",
       "      <td>0.342504</td>\n",
       "    </tr>\n",
       "    <tr>\n",
       "      <th>5267</th>\n",
       "      <td>13172</td>\n",
       "      <td>0.621444</td>\n",
       "      <td>0.032547</td>\n",
       "      <td>0.340214</td>\n",
       "    </tr>\n",
       "    <tr>\n",
       "      <th>5268</th>\n",
       "      <td>13173</td>\n",
       "      <td>0.756190</td>\n",
       "      <td>0.029750</td>\n",
       "      <td>0.220465</td>\n",
       "    </tr>\n",
       "    <tr>\n",
       "      <th>5269</th>\n",
       "      <td>13174</td>\n",
       "      <td>0.623585</td>\n",
       "      <td>0.041454</td>\n",
       "      <td>0.344986</td>\n",
       "    </tr>\n",
       "    <tr>\n",
       "      <th>5270</th>\n",
       "      <td>13175</td>\n",
       "      <td>0.578974</td>\n",
       "      <td>0.031825</td>\n",
       "      <td>0.362277</td>\n",
       "    </tr>\n",
       "  </tbody>\n",
       "</table>\n",
       "<p>5271 rows × 4 columns</p>\n",
       "</div>"
      ],
      "text/plain": [
       "         id  Status_C  Status_CL  Status_D\n",
       "0      7905  0.744796   0.028214  0.229873\n",
       "1      7906  0.605937   0.040659  0.344626\n",
       "2      7907  0.609540   0.041189  0.417405\n",
       "3      7908  0.630226   0.031700  0.326352\n",
       "4      7909  0.738574   0.032910  0.239425\n",
       "...     ...       ...        ...       ...\n",
       "5266  13171  0.606528   0.040096  0.342504\n",
       "5267  13172  0.621444   0.032547  0.340214\n",
       "5268  13173  0.756190   0.029750  0.220465\n",
       "5269  13174  0.623585   0.041454  0.344986\n",
       "5270  13175  0.578974   0.031825  0.362277\n",
       "\n",
       "[5271 rows x 4 columns]"
      ]
     },
     "execution_count": 34,
     "metadata": {},
     "output_type": "execute_result"
    }
   ],
   "source": [
    "submission = pd.DataFrame({'id': submission_df['id'],'Status_C': testC_pred, 'Status_CL': testCL_pred, 'Status_D': testD_pred})\n",
    "submission"
   ]
  },
  {
   "cell_type": "code",
   "execution_count": 35,
   "id": "799b77e8",
   "metadata": {
    "execution": {
     "iopub.execute_input": "2023-12-12T16:14:42.384713Z",
     "iopub.status.busy": "2023-12-12T16:14:42.384057Z",
     "iopub.status.idle": "2023-12-12T16:14:42.442640Z",
     "shell.execute_reply": "2023-12-12T16:14:42.441493Z"
    },
    "papermill": {
     "duration": 0.08071,
     "end_time": "2023-12-12T16:14:42.445313",
     "exception": false,
     "start_time": "2023-12-12T16:14:42.364603",
     "status": "completed"
    },
    "tags": []
   },
   "outputs": [],
   "source": [
    "submission.to_csv('/kaggle/working/submission.csv', index=False, header=True)"
   ]
  }
 ],
 "metadata": {
  "kaggle": {
   "accelerator": "none",
   "dataSources": [
    {
     "databundleVersionId": 7000181,
     "sourceId": 60893,
     "sourceType": "competition"
    }
   ],
   "dockerImageVersionId": 30615,
   "isGpuEnabled": false,
   "isInternetEnabled": true,
   "language": "python",
   "sourceType": "notebook"
  },
  "kernelspec": {
   "display_name": "Python 3",
   "language": "python",
   "name": "python3"
  },
  "language_info": {
   "codemirror_mode": {
    "name": "ipython",
    "version": 3
   },
   "file_extension": ".py",
   "mimetype": "text/x-python",
   "name": "python",
   "nbconvert_exporter": "python",
   "pygments_lexer": "ipython3",
   "version": "3.10.12"
  },
  "papermill": {
   "default_parameters": {},
   "duration": 16.162078,
   "end_time": "2023-12-12T16:14:43.084743",
   "environment_variables": {},
   "exception": null,
   "input_path": "__notebook__.ipynb",
   "output_path": "__notebook__.ipynb",
   "parameters": {},
   "start_time": "2023-12-12T16:14:26.922665",
   "version": "2.4.0"
  }
 },
 "nbformat": 4,
 "nbformat_minor": 5
}
